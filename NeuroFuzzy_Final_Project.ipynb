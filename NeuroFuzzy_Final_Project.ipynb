{
 "cells": [
  {
   "cell_type": "markdown",
   "id": "062ab54b-6275-4381-a922-93c8357341c4",
   "metadata": {},
   "source": [
    "<center><h1>Neuro-Fuzzy Computing Final Project: Text Classification with Neural Networks</h1></center>"
   ]
  },
  {
   "cell_type": "markdown",
   "id": "92820086-9d89-49f5-9737-c200297fc0ed",
   "metadata": {},
   "source": [
    "<center><b><h3>Thomas Katraouras 03215, Ioannis Kalamakis 03325, Alexandros Betsas 03271</h3></b></center>"
   ]
  },
  {
   "cell_type": "markdown",
   "id": "092cb728-1ee6-4fee-8811-b332e3a23dcc",
   "metadata": {},
   "source": [
    "<br><br><br>"
   ]
  },
  {
   "cell_type": "markdown",
   "id": "0d36d95e-e98e-4982-971a-beb5c4314d8a",
   "metadata": {},
   "source": [
    "## In this notebook, we go through the code of our project with short descriptions and comments where needed. Further analysis can be found in our report"
   ]
  },
  {
   "cell_type": "markdown",
   "id": "7c3b897c-536a-45f6-8d5a-126a9dcaa65e",
   "metadata": {},
   "source": [
    "### All necessary imports"
   ]
  },
  {
   "cell_type": "code",
   "execution_count": 103,
   "id": "3b54944f",
   "metadata": {},
   "outputs": [],
   "source": [
    "import numpy as np\n",
    "import pandas as pd\n",
    "import matplotlib.pyplot as plt\n",
    "from tensorflow.keras.preprocessing.text import Tokenizer\n",
    "from tensorflow.keras.preprocessing.sequence import pad_sequences\n",
    "from sklearn.model_selection import train_test_split\n",
    "from nltk.corpus import stopwords\n",
    "import re\n",
    "from sklearn.preprocessing import LabelBinarizer, LabelEncoder\n",
    "import tensorflow as tf\n",
    "from tensorflow import keras\n",
    "from keras.models import Sequential\n",
    "from keras.layers import Dense, Flatten, Activation, Dropout, GlobalMaxPool1D, Conv1D\n",
    "from keras.initializers import Constant\n",
    "from keras.layers import Embedding\n",
    "from keras.preprocessing import text, sequence\n",
    "from keras.preprocessing.text import Tokenizer\n",
    "from keras import layers\n",
    "from keras import utils\n",
    "from keras.regularizers import l2\n",
    "from nltk.tokenize import word_tokenize, sent_tokenize\n",
    "import nltk\n",
    "from sklearn.metrics import accuracy_score\n",
    "from sklearn.metrics import confusion_matrix, ConfusionMatrixDisplay\n",
    "from sklearn.metrics import precision_recall_fscore_support as score\n",
    "from transformers import AutoTokenizer, DataCollatorWithPadding, AutoModelForSequenceClassification, TrainingArguments, Trainer\n",
    "from datasets import Dataset\n",
    "import torch\n",
    "import time"
   ]
  },
  {
   "cell_type": "markdown",
   "id": "b543c36b-dd01-4ea3-ad81-8f7958e8d797",
   "metadata": {},
   "source": [
    "<br><br><br><br>"
   ]
  },
  {
   "cell_type": "markdown",
   "id": "1ec0d249-4958-4d91-885b-928cbad320c8",
   "metadata": {},
   "source": [
    "### First of all before starting, we import the dataset and calculate the average text length, total number of unique words across all articles and we calculate the standard deviation for each class number to see if the dataset is balanced"
   ]
  },
  {
   "cell_type": "code",
   "execution_count": 102,
   "id": "b7471703-ee4a-4bcd-96aa-9bf9260ee3c5",
   "metadata": {},
   "outputs": [
    {
     "name": "stdout",
     "output_type": "stream",
     "text": [
      "Average number of words per text: 637.4461848493175\n",
      "Number of unique words in all texts: 303777\n",
      "Standard Deviation for Category Level 1: 227.0278714426154\n",
      "Standard Deviation for Category Level 2: 0.9044571927159726\n"
     ]
    }
   ],
   "source": [
    "df = pd.read_csv('news-classification.csv')\n",
    "\n",
    "# calculate the average number of words per text\n",
    "word_counts = df['content'].apply(lambda x: len(x.split()))\n",
    "average_words_per_text = word_counts.mean()\n",
    "\n",
    "# calculate the number of unique words in all texts\n",
    "all_words = df['content'].str.split(expand=True).stack()\n",
    "unique_words_count = len(set(all_words))\n",
    "\n",
    "# Print the results for words\n",
    "print(f'Average number of words per text: {average_words_per_text}')\n",
    "print(f'Number of unique words in all texts: {unique_words_count}')\n",
    "\n",
    "texts_per_class_level_1 = df['category_level_1'].value_counts()\n",
    "texts_per_class_level_2 = df['category_level_2'].value_counts()\n",
    "\n",
    "std_dev_level_1 = texts_per_class_level_1.std()\n",
    "std_dev_level_2 = texts_per_class_level_2.std()\n",
    "\n",
    "print(f'Standard Deviation for Category Level 1: {std_dev_level_1}')\n",
    "print(f'Standard Deviation for Category Level 2: {std_dev_level_2}')"
   ]
  },
  {
   "cell_type": "markdown",
   "id": "36f06c09-a8a8-4ddf-855a-c071575aec6c",
   "metadata": {},
   "source": [
    "#### It seems the distribution of texts within Level 1 is quite high which signifies a potential imbalance of the dataset\n",
    "#### Distribution of texts within Level 2 is low, so it seems this category is quite balanced"
   ]
  },
  {
   "cell_type": "markdown",
   "id": "9ee70452-db5d-4c02-9f0b-6576c80b7f2d",
   "metadata": {},
   "source": [
    "<br><br>"
   ]
  },
  {
   "cell_type": "markdown",
   "id": "43fe7f07-d28d-484d-a912-f57c35c59970",
   "metadata": {},
   "source": [
    "### Define constants based on our observations"
   ]
  },
  {
   "cell_type": "code",
   "execution_count": 98,
   "id": "07fedba0-f344-473c-b445-fce36d2a20f2",
   "metadata": {},
   "outputs": [],
   "source": [
    "MAX_SEQUENCE_LENGTH = 600  # Max length of input sequences\n",
    "MAX_NUM_WORDS = 300000  # Max number of words to tokenize"
   ]
  },
  {
   "cell_type": "markdown",
   "id": "4b6bc4c7-73f8-42f1-a1df-bda89d9abba7",
   "metadata": {},
   "source": [
    "<br>"
   ]
  },
  {
   "cell_type": "markdown",
   "id": "b9f5546e-17be-416b-affb-643e6d9bcb1a",
   "metadata": {},
   "source": [
    "### DataLoader class, which takes the path to our dataset, text and label column names, test size for data split and it imports the data, keeps only the columns we need, keeps unique label names for classes and subclasses and splits into training / testing sets, then returns everyting.\n",
    "### This was done so it can be modified to work with any dataset, and return train and test data that will be fed into the preprocessor and neural network"
   ]
  },
  {
   "cell_type": "code",
   "execution_count": 107,
   "id": "cd43ee97",
   "metadata": {},
   "outputs": [],
   "source": [
    "class DataLoader:\n",
    "    def __init__(self, data_path, text_column='content', label_column_1='category_level_1', label_column_2='category_level_2', test_size=0.2):\n",
    "        self.data_path = data_path\n",
    "        self.text_column = text_column\n",
    "        self.label_column_1 = label_column_1\n",
    "        self.label_column_2 = label_column_2\n",
    "        self.test_size = test_size\n",
    "\n",
    "    def load_data(self):\n",
    "        df = pd.read_csv(self.data_path)\n",
    "\n",
    "        X = df[self.text_column].values\n",
    "        y1 = df[self.label_column_1].values\n",
    "        y2 = df[self.label_column_2].values\n",
    "\n",
    "        # Unique labels to be used in label encoding\n",
    "        y1_label = np.array(df['category_level_1'].unique())\n",
    "        y2_label = np.array(df['category_level_2'].unique())\n",
    "\n",
    "        # Split train / test sets\n",
    "        X_train, X_test, y1_train, y1_test, y2_train, y2_test = train_test_split(X, y1, y2, test_size=self.test_size, random_state=42)\n",
    "\n",
    "        return X_train, y1_train, y2_train, X_test, y1_test, y2_test, y1_label, y2_label"
   ]
  },
  {
   "cell_type": "markdown",
   "id": "e36c5d5f-6860-4e60-9377-c141e2d7b57b",
   "metadata": {},
   "source": [
    "<br>"
   ]
  },
  {
   "cell_type": "markdown",
   "id": "57cd3786-888f-4798-8f4a-60e6f65750e8",
   "metadata": {},
   "source": [
    "### TextPreprocessor Class, which is used to preprocess the text (eg. remove case, numbers, remove stopwords, tokenize, pad etc)\n",
    "\n",
    "### More specifically, for each of its functions:\n",
    "#### preprocess_text: for each text in the array provided, it converts to lowercase (special characters are removed by the tokenizer itself), replaces all types of hyphens with a space, removes all digits, expands word contradictions (eg. we're is turned into we are), removes all possessives (eg John's is turned into John), tokenizes each sentence in the text and removes stop words based on the nltk corpus, removes single character words/leftover characters. Finally, it returns the array of preprocessed texts\n",
    "#### fit_on_text: the function actually called by us, it preprocesses the text (using the above function) then fits the preprocessed text to the tokenizer (which also removes special characters)\n",
    "#### preprocess_text_data: it converts the text to sequences, pads them based on the max sequence length constant, then returns the padded sequences so they can be fed into the neural network\n",
    "#### plot_token_concentration: plots the concentration of n most frequent tokens in the tokenizer, for visualization purposes\n",
    "#### remove_stopwords: removes stopwords for the text provided\n",
    "#### get_vocab_size: gets tokenizer vocabulary size, useful for NN parameters definition"
   ]
  },
  {
   "cell_type": "code",
   "execution_count": 3,
   "id": "45df1f56",
   "metadata": {},
   "outputs": [
    {
     "name": "stderr",
     "output_type": "stream",
     "text": [
      "[nltk_data] Downloading package punkt to\n",
      "[nltk_data]     C:\\Users\\tomka\\AppData\\Roaming\\nltk_data...\n",
      "[nltk_data]   Package punkt is already up-to-date!\n"
     ]
    }
   ],
   "source": [
    "nltk.download('punkt')\n",
    "\n",
    "class TextPreprocessor:\n",
    "    def __init__(self, max_num_words=MAX_NUM_WORDS, max_sequence_length=MAX_SEQUENCE_LENGTH):\n",
    "        self.max_num_words = max_num_words\n",
    "        self.max_sequence_length = max_sequence_length\n",
    "        self.custom_filters = '!\"#$%&()*+,-./:;<=>?@[\\\\]^_`{|}~\\t\\n“”‘’' # used by the tokenizer to remove special characters\n",
    "        self.tokenizer = Tokenizer(filters=self.custom_filters, num_words=self.max_num_words)\n",
    "        self.stop_words = set(stopwords.words('english')) # stopwords dictionary\n",
    "\n",
    "    def fit_on_texts(self, texts):\n",
    "        texts = self.preprocess_text(texts)\n",
    "        self.tokenizer.fit_on_texts(texts)\n",
    "\n",
    "    def preprocess_text(self, texts):\n",
    "        preprocessed_texts = []\n",
    "        for text in texts:\n",
    "            text = text.lower()  # convert to lower case\n",
    "            text = re.sub(r'[-–—]+', ' ', text)  # replace hyphens and en/em-dashes with a space\n",
    "            text = re.sub(r'\\d+', '', text)  # remove digits\n",
    "            \n",
    "            # Expand contractions\n",
    "            contractions_dict = {\n",
    "                # include all variations of apostrophes\n",
    "                \"’s\": \" is\",\n",
    "                \"’re\": \" are\",\n",
    "                \"’ve\": \" have\",\n",
    "                \"n’t\": \" not\",\n",
    "                \"’ll\": \" will\",\n",
    "                \"’d\": \" would\",\n",
    "                \"’m\": \" am\",\n",
    "                \"won’t\": \"will not\",\n",
    "                \"can’t\": \"cannot\",\n",
    "                # include the same for standard apostrophes\n",
    "                \"'s\": \" is\",\n",
    "                \"'re\": \" are\",\n",
    "                \"'ve\": \" have\",\n",
    "                \"n't\": \" not\",\n",
    "                \"'ll\": \" will\",\n",
    "                \"'d\": \" would\",\n",
    "                \"'m\": \" am\",\n",
    "                \"won't\": \"will not\",\n",
    "                \"can't\": \"cannot\",\n",
    "            }\n",
    "            for contraction, expansion in contractions_dict.items():\n",
    "                text = re.sub(contraction, expansion, text, flags=re.IGNORECASE)\n",
    "\n",
    "            text = re.sub(r\"('s|’s)\\b\", \"\", text)  # remove standalone possessive 's and variations\n",
    "\n",
    "            # sentence segmentation and stopwords removal\n",
    "            sentences = sent_tokenize(text)\n",
    "            processed_sentences = [self.remove_stopwords(sentence) for sentence in sentences]\n",
    "            processed_text = ' '.join(processed_sentences)  # join the processed sentences\n",
    "\n",
    "            # remove single character words \n",
    "            # (most are already removed by the stopwords remover, this removes left overs)\n",
    "            processed_text = re.sub(r'\\b\\w\\b', '', processed_text) \n",
    "            preprocessed_texts.append(processed_text)\n",
    "            \n",
    "        return preprocessed_texts\n",
    "\n",
    "    def preprocess_text_data(self, texts):\n",
    "        # convert to sequences, pad them and return them\n",
    "        sequences = self.tokenizer.texts_to_sequences(texts)\n",
    "        padded_sequences = pad_sequences(sequences, maxlen=self.max_sequence_length)\n",
    "        return padded_sequences\n",
    "\n",
    "    def plot_token_concentration(self, num_tokens_to_plot=20):\n",
    "        word_counts = self.tokenizer.word_counts\n",
    "        sorted_word_counts = sorted(word_counts.items(), key=lambda x: x[1], reverse=True)\n",
    "        tokens = [item[0] for item in sorted_word_counts]\n",
    "        frequencies = [item[1] for item in sorted_word_counts]\n",
    "        \n",
    "        plt.figure(figsize=(10, 6))\n",
    "        plt.bar(tokens[:num_tokens_to_plot], frequencies[:num_tokens_to_plot])\n",
    "        plt.xlabel('Token')\n",
    "        plt.ylabel('Frequency')\n",
    "        plt.title('Top {} Tokens in Vocabulary'.format(num_tokens_to_plot))\n",
    "        plt.xticks(rotation=45, ha='right')\n",
    "        plt.tight_layout()\n",
    "        plt.show()\n",
    "\n",
    "    def remove_stopwords(self, text):\n",
    "        return ' '.join([word for word in text.split() if word not in self.stop_words])\n",
    "\n",
    "    def get_vocab_size(self):\n",
    "        return len(self.tokenizer.word_index) + 1"
   ]
  },
  {
   "cell_type": "markdown",
   "id": "c53db82e-4914-4239-8182-266ff30b6373",
   "metadata": {},
   "source": [
    "<br>"
   ]
  },
  {
   "cell_type": "markdown",
   "id": "bdff63d1-3d31-40cd-b049-690a5d6bd382",
   "metadata": {},
   "source": [
    "### We start by utilizing the two classes above to import our dataset and preprocess it (preprocess + tokenize + add padding). We also shuffle it and keep the vocab size and y1_label, y2_label. We plot the concentration of the 30 most seen tokens after tokenization\n",
    "#### Note: the reason we shuffle the dataset is to prevent the network from seeing only one category first, then another etc and to create more diversity to the data it sees\n",
    "#### Note: we only fit the tokenizer with the training data instead of the whole dataset, so that the testing data is a simulation of real-world unseen data, which both the tokenizer and the neural network haven't seen before"
   ]
  },
  {
   "cell_type": "code",
   "execution_count": 4,
   "id": "693fe545",
   "metadata": {},
   "outputs": [
    {
     "data": {
      "image/png": "[encoded data removed]",
      "text/plain": [
       "<Figure size 1000x600 with 1 Axes>"
      ]
     },
     "metadata": {},
     "output_type": "display_data"
    },
    {
     "data": {
      "text/plain": [
       "((8733, 600), (2184, 600))"
      ]
     },
     "execution_count": 4,
     "metadata": {},
     "output_type": "execute_result"
    }
   ],
   "source": [
    "# USING THE 2 ABOVE CLASSES\n",
    "\n",
    "data_loader = DataLoader(\"news-classification.csv\")\n",
    "\n",
    "# In the line below, y1_label and y2_label are used later to encode labels\n",
    "X_train, y1_train, y2_train, X_test, y1_test, y2_test, y1_label, y2_label = data_loader.load_data()\n",
    "\n",
    "# create shuffled indices\n",
    "indices = np.arange(len(X_train))\n",
    "np.random.shuffle(indices)\n",
    "\n",
    "# shuffle X_train and y_train using the shuffled indices\n",
    "X_train = X_train[indices]\n",
    "y1_train = y1_train[indices]\n",
    "y2_train = y2_train[indices]\n",
    "\n",
    "# preprocess and tokenize\n",
    "text_preprocessor = TextPreprocessor()\n",
    "text_preprocessor.fit_on_texts(X_train) # we only fit on X_train to mimick real world unknown data with X_test\n",
    "text_preprocessor.plot_token_concentration(30)\n",
    "\n",
    "# padding\n",
    "X_train_preprocessed = text_preprocessor.preprocess_text_data(X_train)\n",
    "X_test_preprocessed = text_preprocessor.preprocess_text_data(X_test)\n",
    "\n",
    "vocab_size = text_preprocessor.get_vocab_size();\n",
    "\n",
    "X_train_preprocessed.shape, X_test_preprocessed.shape"
   ]
  },
  {
   "cell_type": "markdown",
   "id": "07eec2c3-3ecd-4d2b-9cd5-d5325c78ccba",
   "metadata": {},
   "source": [
    "<br>"
   ]
  },
  {
   "cell_type": "markdown",
   "id": "1d82d977-6e0c-4346-b3fa-da0406415424",
   "metadata": {},
   "source": [
    "### We encode the labels for both classes and subclasses and turn them to categorical variables"
   ]
  },
  {
   "cell_type": "code",
   "execution_count": 5,
   "id": "7666dfc3",
   "metadata": {},
   "outputs": [],
   "source": [
    "# encode labels for both level 1 and level 2 categories\n",
    "encoder1 = LabelEncoder()\n",
    "encoder2 = LabelEncoder()\n",
    "\n",
    "encoder1.fit(y1_label)\n",
    "encoder2.fit(y2_label)\n",
    "y1_train = encoder1.transform(y1_train)\n",
    "y2_train = encoder2.transform(y2_train)\n",
    "y1_test = encoder1.transform(y1_test)\n",
    "y2_test = encoder2.transform(y2_test)\n",
    "\n",
    "num_classes1 = np.max(y1_train) + 1\n",
    "num_classes2 = np.max(y2_train) + 1\n",
    "\n",
    "# convert to categorical\n",
    "y1_train = utils.to_categorical(y1_train, num_classes1)\n",
    "y2_train = utils.to_categorical(y2_train, num_classes2)\n",
    "y1_test = utils.to_categorical(y1_test, num_classes1)\n",
    "y2_test = utils.to_categorical(y2_test, num_classes2)"
   ]
  },
  {
   "cell_type": "markdown",
   "id": "36769322-0e75-4787-ab03-2cc18b7aab85",
   "metadata": {},
   "source": [
    "<br>\n",
    "<br>\n",
    "<br>"
   ]
  },
  {
   "cell_type": "markdown",
   "id": "ad0d3f02-489f-4dee-804b-24de57828d98",
   "metadata": {},
   "source": [
    "## LEVEL 1 (CLASS) NETWORK"
   ]
  },
  {
   "cell_type": "markdown",
   "id": "2472efbe-0085-49ae-bcfa-3d7a78b2bd5c",
   "metadata": {},
   "source": [
    "<br>"
   ]
  },
  {
   "cell_type": "markdown",
   "id": "c5b3b3fc-284e-45c2-a75b-e071ec56ad14",
   "metadata": {},
   "source": [
    "### We train the first network to classify the texts based on level 1 labels"
   ]
  },
  {
   "cell_type": "markdown",
   "id": "ed73ac6f-3a08-4212-8b8b-751b1ed3fb54",
   "metadata": {},
   "source": [
    "### We define the parameters, then the layers of the network and compile the model. We also split train and validation sets manually instead of using validation_split keras function <br>\n",
    "### More specifically:\n",
    "#### We chose 100 embedding dimensions, a batch size of 32 and 25 epochs. The network consists of:\n",
    "#### An Embedding layer (vocab_size input, embedding_dim output, MAX_SEQUENCE_LENGTH input length and its trainable, since we train our own Embeddings)\n",
    "#### A Convolutional Layer with 640 filters and a window size of 2. We utilize batch normalization and the activation function is Leaky ReLU.\n",
    "#### A GlobalMaxPooling Layer after the Convolutional Layer\n",
    "#### A Dropout Layer with a rate of 0.4\n",
    "#### A Dense Layer with 640 filters. We utilize batch normalization and the activation function is Leaky ReLU.\n",
    "#### A Dropout Layer with a rate of 0.3\n",
    "#### A Dense Layer for the output with 17 filters (for 17 labels) and softmax activation function<br>\n",
    "### We compile the model with:\n",
    "#### Categorical Crossentropy as our loss function, RMSProp with a learning rate of 0.0007 and a RHO of 0.5 as our optimizer and categorical accuracy, precision, recall as our metrics<br>\n",
    "\n",
    "#### Finally, we split 10% of the training dataset as the validation dataset. The reason we do this instead of using validation_split keras function, is to introduce randomness to the validation set, since validation_split does not."
   ]
  },
  {
   "cell_type": "code",
   "execution_count": 87,
   "id": "3a248334-7b4e-4b79-8767-5c14f0ff1b34",
   "metadata": {},
   "outputs": [],
   "source": [
    "embedding_dim = 100\n",
    "batch_size = 32\n",
    "epochs = 25\n",
    "\n",
    "level1_model = Sequential([\n",
    "    keras.layers.Embedding(input_dim=vocab_size, \n",
    "              output_dim=embedding_dim, \n",
    "              input_length=MAX_SEQUENCE_LENGTH, \n",
    "              trainable=True),\n",
    "    keras.layers.Conv1D(640, 2),\n",
    "    keras.layers.BatchNormalization(),\n",
    "    keras.layers.LeakyReLU(),\n",
    "    keras.layers.GlobalMaxPooling1D(),\n",
    "    keras.layers.Dropout(0.4),\n",
    "    keras.layers.Dense(640),\n",
    "    keras.layers.BatchNormalization(),\n",
    "    keras.layers.LeakyReLU(),\n",
    "    keras.layers.Dropout(0.3),\n",
    "    keras.layers.Dense(17, activation='softmax')\n",
    "])\n",
    "\n",
    "level1_model.compile(loss=tf.keras.losses.CategoricalCrossentropy(),optimizer=tf.keras.optimizers.RMSprop(learning_rate=0.0007, rho=0.5),\n",
    "                    metrics=['categorical_accuracy', tf.keras.metrics.Precision(), tf.keras.metrics.Recall()])\n",
    "\n",
    "X_train_new, X_val, y1_train_new, y1_val = train_test_split(X_train_preprocessed, y1_train, test_size=0.1, random_state=42)"
   ]
  },
  {
   "cell_type": "markdown",
   "id": "42b5dbb8-d887-4c0e-b0fc-6f222b68aaab",
   "metadata": {},
   "source": [
    "### Train the model"
   ]
  },
  {
   "cell_type": "code",
   "execution_count": 88,
   "id": "50adf885-142b-41fb-81ea-3bbd4bfb1c19",
   "metadata": {},
   "outputs": [
    {
     "name": "stdout",
     "output_type": "stream",
     "text": [
      "Epoch 1/25\n",
      "246/246 [==============================] - 5s 16ms/step - loss: 2.7088 - categorical_accuracy: 0.2313 - precision_9: 0.4902 - recall_9: 0.0957 - val_loss: 3.1872 - val_categorical_accuracy: 0.0881 - val_precision_9: 0.0000e+00 - val_recall_9: 0.0000e+00\n",
      "Epoch 2/25\n",
      "246/246 [==============================] - 4s 15ms/step - loss: 1.7152 - categorical_accuracy: 0.4976 - precision_9: 0.6686 - recall_9: 0.3598 - val_loss: 1.7908 - val_categorical_accuracy: 0.4565 - val_precision_9: 0.9121 - val_recall_9: 0.0950\n",
      "Epoch 3/25\n",
      "246/246 [==============================] - 4s 15ms/step - loss: 1.3858 - categorical_accuracy: 0.5909 - precision_9: 0.7090 - recall_9: 0.4817 - val_loss: 1.1107 - val_categorical_accuracy: 0.6625 - val_precision_9: 0.7795 - val_recall_9: 0.5217\n",
      "Epoch 4/25\n",
      "246/246 [==============================] - 4s 15ms/step - loss: 1.1645 - categorical_accuracy: 0.6571 - precision_9: 0.7575 - recall_9: 0.5655 - val_loss: 1.0477 - val_categorical_accuracy: 0.6922 - val_precision_9: 0.7742 - val_recall_9: 0.6121\n",
      "Epoch 5/25\n",
      "246/246 [==============================] - 4s 15ms/step - loss: 1.0034 - categorical_accuracy: 0.7024 - precision_9: 0.7872 - recall_9: 0.6220 - val_loss: 1.0070 - val_categorical_accuracy: 0.7025 - val_precision_9: 0.7705 - val_recall_9: 0.6339\n",
      "Epoch 6/25\n",
      "246/246 [==============================] - 4s 15ms/step - loss: 0.8970 - categorical_accuracy: 0.7274 - precision_9: 0.8033 - recall_9: 0.6647 - val_loss: 0.9941 - val_categorical_accuracy: 0.7151 - val_precision_9: 0.7664 - val_recall_9: 0.6568\n",
      "Epoch 7/25\n",
      "246/246 [==============================] - 4s 15ms/step - loss: 0.7833 - categorical_accuracy: 0.7604 - precision_9: 0.8284 - recall_9: 0.7072 - val_loss: 0.9779 - val_categorical_accuracy: 0.7254 - val_precision_9: 0.7773 - val_recall_9: 0.6831\n",
      "Epoch 8/25\n",
      "246/246 [==============================] - 4s 15ms/step - loss: 0.6951 - categorical_accuracy: 0.7857 - precision_9: 0.8418 - recall_9: 0.7375 - val_loss: 0.9955 - val_categorical_accuracy: 0.7403 - val_precision_9: 0.7745 - val_recall_9: 0.6957\n",
      "Epoch 9/25\n",
      "246/246 [==============================] - 4s 15ms/step - loss: 0.6337 - categorical_accuracy: 0.8058 - precision_9: 0.8561 - recall_9: 0.7598 - val_loss: 0.9529 - val_categorical_accuracy: 0.7517 - val_precision_9: 0.7879 - val_recall_9: 0.7140\n",
      "Epoch 10/25\n",
      "246/246 [==============================] - 4s 15ms/step - loss: 0.5795 - categorical_accuracy: 0.8140 - precision_9: 0.8620 - recall_9: 0.7781 - val_loss: 0.9476 - val_categorical_accuracy: 0.7597 - val_precision_9: 0.7911 - val_recall_9: 0.7151\n",
      "Epoch 11/25\n",
      "246/246 [==============================] - 4s 14ms/step - loss: 0.5356 - categorical_accuracy: 0.8426 - precision_9: 0.8779 - recall_9: 0.8054 - val_loss: 0.9711 - val_categorical_accuracy: 0.7563 - val_precision_9: 0.7932 - val_recall_9: 0.7243\n",
      "Epoch 12/25\n",
      "246/246 [==============================] - 4s 15ms/step - loss: 0.4946 - categorical_accuracy: 0.8520 - precision_9: 0.8872 - recall_9: 0.8210 - val_loss: 0.9809 - val_categorical_accuracy: 0.7574 - val_precision_9: 0.7935 - val_recall_9: 0.7300\n",
      "Epoch 13/25\n",
      "246/246 [==============================] - 4s 15ms/step - loss: 0.4440 - categorical_accuracy: 0.8605 - precision_9: 0.8931 - recall_9: 0.8325 - val_loss: 0.9913 - val_categorical_accuracy: 0.7609 - val_precision_9: 0.7952 - val_recall_9: 0.7197\n",
      "Epoch 14/25\n",
      "246/246 [==============================] - 4s 15ms/step - loss: 0.4128 - categorical_accuracy: 0.8712 - precision_9: 0.8980 - recall_9: 0.8467 - val_loss: 1.0118 - val_categorical_accuracy: 0.7654 - val_precision_9: 0.7946 - val_recall_9: 0.7346\n",
      "Epoch 15/25\n",
      "246/246 [==============================] - 4s 15ms/step - loss: 0.4001 - categorical_accuracy: 0.8786 - precision_9: 0.9039 - recall_9: 0.8570 - val_loss: 1.0312 - val_categorical_accuracy: 0.7540 - val_precision_9: 0.7899 - val_recall_9: 0.7311\n",
      "Epoch 16/25\n",
      "246/246 [==============================] - 4s 15ms/step - loss: 0.3690 - categorical_accuracy: 0.8888 - precision_9: 0.9115 - recall_9: 0.8702 - val_loss: 1.0177 - val_categorical_accuracy: 0.7700 - val_precision_9: 0.7993 - val_recall_9: 0.7426\n",
      "Epoch 17/25\n",
      "246/246 [==============================] - 4s 15ms/step - loss: 0.3625 - categorical_accuracy: 0.8934 - precision_9: 0.9144 - recall_9: 0.8749 - val_loss: 1.0707 - val_categorical_accuracy: 0.7677 - val_precision_9: 0.7861 - val_recall_9: 0.7357\n",
      "Epoch 18/25\n",
      "246/246 [==============================] - 4s 15ms/step - loss: 0.3454 - categorical_accuracy: 0.8948 - precision_9: 0.9141 - recall_9: 0.8771 - val_loss: 1.0617 - val_categorical_accuracy: 0.7643 - val_precision_9: 0.7890 - val_recall_9: 0.7403\n",
      "Epoch 19/25\n",
      "246/246 [==============================] - 4s 15ms/step - loss: 0.3474 - categorical_accuracy: 0.8985 - precision_9: 0.9172 - recall_9: 0.8823 - val_loss: 1.1204 - val_categorical_accuracy: 0.7654 - val_precision_9: 0.7864 - val_recall_9: 0.7414\n",
      "Epoch 20/25\n",
      "246/246 [==============================] - 4s 15ms/step - loss: 0.3055 - categorical_accuracy: 0.9117 - precision_9: 0.9282 - recall_9: 0.8967 - val_loss: 1.0698 - val_categorical_accuracy: 0.7597 - val_precision_9: 0.7838 - val_recall_9: 0.7426\n",
      "Epoch 21/25\n",
      "246/246 [==============================] - 4s 15ms/step - loss: 0.2979 - categorical_accuracy: 0.9100 - precision_9: 0.9270 - recall_9: 0.8955 - val_loss: 1.0617 - val_categorical_accuracy: 0.7620 - val_precision_9: 0.7963 - val_recall_9: 0.7380\n",
      "Epoch 22/25\n",
      "246/246 [==============================] - 4s 15ms/step - loss: 0.2969 - categorical_accuracy: 0.9135 - precision_9: 0.9312 - recall_9: 0.9014 - val_loss: 1.0930 - val_categorical_accuracy: 0.7643 - val_precision_9: 0.7813 - val_recall_9: 0.7357\n",
      "Epoch 23/25\n",
      "246/246 [==============================] - 4s 15ms/step - loss: 0.2800 - categorical_accuracy: 0.9192 - precision_9: 0.9340 - recall_9: 0.9077 - val_loss: 1.1423 - val_categorical_accuracy: 0.7540 - val_precision_9: 0.7842 - val_recall_9: 0.7403\n",
      "Epoch 24/25\n",
      "246/246 [==============================] - 4s 15ms/step - loss: 0.2705 - categorical_accuracy: 0.9191 - precision_9: 0.9330 - recall_9: 0.9079 - val_loss: 1.1232 - val_categorical_accuracy: 0.7632 - val_precision_9: 0.7853 - val_recall_9: 0.7449\n",
      "Epoch 25/25\n",
      "246/246 [==============================] - 4s 15ms/step - loss: 0.2671 - categorical_accuracy: 0.9229 - precision_9: 0.9372 - recall_9: 0.9121 - val_loss: 1.1607 - val_categorical_accuracy: 0.7563 - val_precision_9: 0.7836 - val_recall_9: 0.7414\n",
      "\n",
      "\n",
      "----------------------\n",
      "\n",
      "Training Took: 91.98 sec\n"
     ]
    }
   ],
   "source": [
    "start_time = time.time()\n",
    "history_level1 = level1_model.fit(X_train_new, y1_train_new, epochs=epochs, batch_size=batch_size ,validation_data=(X_val, y1_val))\n",
    "end_time = time.time()\n",
    "\n",
    "print(f\"\\n\\n----------------------\\n\\nTraining Took: {(end_time-start_time):.2f} sec\")"
   ]
  },
  {
   "cell_type": "markdown",
   "id": "abf47a6e-de80-4d76-b385-4c8d63f5f859",
   "metadata": {},
   "source": [
    "### Plot Train and Validation loss and accuracy"
   ]
  },
  {
   "cell_type": "code",
   "execution_count": 89,
   "id": "4bdf69c2-a290-485b-a0f4-00b75fbfef35",
   "metadata": {},
   "outputs": [
    {
     "data": {
      "image/png": "[encoded data removed]",
      "text/plain": [
       "<Figure size 640x480 with 1 Axes>"
      ]
     },
     "metadata": {},
     "output_type": "display_data"
    },
    {
     "data": {
      "image/png": "[encoded data removed]",
      "text/plain": [
       "<Figure size 640x480 with 1 Axes>"
      ]
     },
     "metadata": {},
     "output_type": "display_data"
    }
   ],
   "source": [
    "# loss plots\n",
    "plt.plot(history_level1.history['loss'], label='Train Loss')\n",
    "plt.plot(history_level1.history['val_loss'], label='Validation Loss')\n",
    "plt.title('Model Loss')\n",
    "plt.ylabel('Loss')\n",
    "plt.xlabel('Epoch')\n",
    "plt.legend()\n",
    "plt.show()\n",
    "\n",
    "# accuracy plots\n",
    "plt.plot(history_level1.history['categorical_accuracy'], label='Train Accuracy')\n",
    "plt.plot(history_level1.history['val_categorical_accuracy'], label='Validation Accuracy')\n",
    "plt.title('Model Accuracy')\n",
    "plt.ylabel('Accuracy')\n",
    "plt.xlabel('Epoch')\n",
    "plt.legend()\n",
    "plt.show()\n"
   ]
  },
  {
   "cell_type": "markdown",
   "id": "70cc4708-eba0-48e2-989d-2f94eb4d2da4",
   "metadata": {},
   "source": [
    "<br><br>"
   ]
  },
  {
   "cell_type": "markdown",
   "id": "0f070aa8-2e99-47f4-a84c-d84b665cfb59",
   "metadata": {},
   "source": [
    "### Print final network weights after training\n",
    "#### For each layer, we print the first 5 elements of each array for better readability\n",
    "#### Obvisouly, layers like GlobalMaxPooling or the activation functions do not have weights, so nothing is printed for them"
   ]
  },
  {
   "cell_type": "code",
   "execution_count": 90,
   "id": "2b6303a0-b798-4fc1-865e-f68f64e342ac",
   "metadata": {},
   "outputs": [
    {
     "name": "stdout",
     "output_type": "stream",
     "text": [
      "Layer Name: embedding_9\n",
      "[[ 0.03963891 -0.00514397  0.00225287 -0.0874671  -0.0691452 ]\n",
      " [ 0.0481843  -0.01704378  0.02247309 -0.06857051 -0.01616324]\n",
      " [ 0.03503864  0.00299745  0.00897864 -0.06696893 -0.02323067]\n",
      " [ 0.02382465  0.01191436 -0.00999057 -0.06663857 -0.04278738]\n",
      " [ 0.01297577 -0.00043177  0.00998729 -0.0415307  -0.02047743]]\n",
      "No bias for this layer.\n",
      "----------------------------------------------------------------------------------\n",
      "Layer Name: conv1d_9\n",
      "[[[-0.05594615  0.000643   -0.08361456 ...  0.16546719 -0.04561048\n",
      "   -0.0058559 ]\n",
      "  [ 0.05350778  0.04937674 -0.0495837  ...  0.05657129  0.12350133\n",
      "   -0.05568485]\n",
      "  [-0.02362201  0.01693645 -0.02710921 ...  0.04544612 -0.01073563\n",
      "    0.04272334]\n",
      "  [ 0.0847709  -0.02820832  0.01488974 ... -0.05694373 -0.00299152\n",
      "   -0.0463243 ]\n",
      "  [-0.06310735  0.0819849  -0.11540084 ... -0.06031746 -0.03869908\n",
      "   -0.04092087]]\n",
      "\n",
      " [[ 0.04766703  0.00197494  0.00798523 ... -0.04387361 -0.04115397\n",
      "   -0.09946125]\n",
      "  [ 0.02780514  0.09668719 -0.02101967 ...  0.02358691  0.0213719\n",
      "   -0.0697583 ]\n",
      "  [ 0.10629679  0.09277088 -0.01560851 ... -0.00999199  0.10468234\n",
      "   -0.07022917]\n",
      "  [-0.01415646  0.08894308 -0.09637385 ...  0.02744367 -0.0839406\n",
      "    0.111954  ]\n",
      "  [ 0.0314732  -0.0263702  -0.00730274 ... -0.09739178 -0.02277833\n",
      "   -0.11071344]]]\n",
      "\n",
      "Bias:\n",
      "[ 0.0080744  -0.00053368 -0.01534067 -0.03419062  0.02008965]\n",
      "----------------------------------------------------------------------------------\n",
      "Layer Name: batch_normalization_18\n",
      "[1.0010061  0.96609026 0.9617747  0.98410225 0.98391783]\n",
      "\n",
      "Bias:\n",
      "[-0.46047404 -0.4240767  -0.4459232  -0.4460796  -0.5050598 ]\n",
      "----------------------------------------------------------------------------------\n",
      "Layer Name: leaky_re_lu_18\n",
      "No weights found.\n",
      "No bias for this layer.\n",
      "----------------------------------------------------------------------------------\n",
      "Layer Name: global_max_pooling1d_9\n",
      "No weights found.\n",
      "No bias for this layer.\n",
      "----------------------------------------------------------------------------------\n",
      "Layer Name: dropout_18\n",
      "No weights found.\n",
      "No bias for this layer.\n",
      "----------------------------------------------------------------------------------\n",
      "Layer Name: dense_18\n",
      "[[ 0.03990949  0.02077699  0.02510753  0.11217176  0.02295524]\n",
      " [-0.03494251 -0.06885017  0.03928199  0.10329802  0.00326093]\n",
      " [ 0.08489329 -0.02983955  0.00706855 -0.01231554  0.07211661]\n",
      " [ 0.02566863  0.06104265 -0.08692311  0.01617118 -0.05299482]\n",
      " [ 0.06348772  0.00132426 -0.11013424 -0.04873369 -0.05032537]]\n",
      "\n",
      "Bias:\n",
      "[-9.4379084e-07  1.9477973e-05  1.2357171e-04  1.1137256e-05\n",
      " -2.6015501e-04]\n",
      "----------------------------------------------------------------------------------\n",
      "Layer Name: batch_normalization_19\n",
      "[0.95350957 0.8963575  0.96394277 1.0044094  0.9458646 ]\n",
      "\n",
      "Bias:\n",
      "[-0.09629764 -0.18807285  0.0547131  -0.07660644 -0.00919642]\n",
      "----------------------------------------------------------------------------------\n",
      "Layer Name: leaky_re_lu_19\n",
      "No weights found.\n",
      "No bias for this layer.\n",
      "----------------------------------------------------------------------------------\n",
      "Layer Name: dropout_19\n",
      "No weights found.\n",
      "No bias for this layer.\n",
      "----------------------------------------------------------------------------------\n",
      "Layer Name: dense_19\n",
      "[[-0.14746103 -0.15419918 -0.16114594 -0.11772206 -0.19907065]\n",
      " [-0.25043222 -0.14626107 -0.20792244 -0.23643288 -0.16648537]\n",
      " [-0.23504134 -0.2680177  -0.2709912  -0.14041844 -0.13775285]\n",
      " [-0.30115247 -0.3241375  -0.30273536 -0.31857613 -0.21636724]\n",
      " [-0.16079834 -0.13707064 -0.26334554 -0.19318451 -0.3448337 ]]\n",
      "\n",
      "Bias:\n",
      "[-0.11034937 -0.43098834 -0.25671467 -0.21100026 -0.16527538]\n",
      "----------------------------------------------------------------------------------\n"
     ]
    }
   ],
   "source": [
    "for layer in level1_model.layers:\n",
    "    layer_name = layer.name\n",
    "    weights = layer.get_weights()\n",
    "\n",
    "    print(\"Layer Name:\", layer_name)\n",
    "\n",
    "    if len(weights) > 0:\n",
    "        w = weights[0]\n",
    "        \n",
    "        if w.ndim == 1:\n",
    "            print(w[:5])  # first 5 elements for readability\n",
    "        else:\n",
    "            print(w[:5, :5])  # first 5 rows and columns for readability\n",
    "    else:\n",
    "        print(\"No weights found.\")\n",
    "\n",
    "    # Handle bias if present\n",
    "    if len(weights) > 1:\n",
    "        bias = weights[1]\n",
    "        print(\"\\nBias:\")\n",
    "        print(bias[:5])  # first 5 elements for readability\n",
    "    else:\n",
    "        print(\"No bias for this layer.\")\n",
    "    \n",
    "    print(\"----------------------------------------------------------------------------------\")"
   ]
  },
  {
   "cell_type": "markdown",
   "id": "dd464817-7797-45d8-ac3e-60153d847ba1",
   "metadata": {},
   "source": [
    "<br>\n",
    "<br>"
   ]
  },
  {
   "cell_type": "markdown",
   "id": "d4c2169d-9671-495a-bbd5-4bc43807d84c",
   "metadata": {},
   "source": [
    "### Predict on the test set using the trained model and print statistics\n",
    "#### After predicting on the test set, we inverse the encoder transform on both the predicted labels and test labels in order to compare them properly and get the statistics"
   ]
  },
  {
   "cell_type": "code",
   "execution_count": 109,
   "id": "40f88c54-b825-4d24-b217-9ccc8f90f05e",
   "metadata": {},
   "outputs": [
    {
     "name": "stdout",
     "output_type": "stream",
     "text": [
      "69/69 [==============================] - 0s 4ms/step\n",
      "\n",
      "\n",
      "Precision: [0.73584906 0.78362573 0.75961538 0.76623377 0.72151899 0.76068376\n",
      " 0.8487395  0.79527559 0.65       0.82857143 0.70666667 0.66486486\n",
      " 0.74871795 0.66477273 0.7247191  0.88372093 0.82291667]\n",
      "\n",
      "\n",
      "Recall: [0.57352941 0.83229814 0.78217822 0.6344086  0.67857143 0.8018018\n",
      " 0.808      0.74264706 0.66101695 0.82857143 0.81538462 0.69101124\n",
      " 0.81564246 0.76973684 0.62926829 0.83516484 0.91860465]\n",
      "\n",
      "\n",
      "Fscore: [0.6446281  0.80722892 0.77073171 0.69411765 0.6993865  0.78070175\n",
      " 0.82786885 0.76806084 0.65546218 0.82857143 0.75714286 0.67768595\n",
      " 0.78074866 0.71341463 0.67362924 0.85875706 0.86813187]\n",
      "\n",
      "\n",
      "Support: [ 68 161 101  93  84 111 125 136 118 140  65 178 179 152 205 182  86]\n",
      "\n",
      "\n",
      "Accuracy: 75.64%\n",
      "\n",
      "\n"
     ]
    }
   ],
   "source": [
    "# Predict on test data and print metrics\n",
    "predictions_level1 = level1_model.predict(X_test_preprocessed)\n",
    "\n",
    "# Convert predictions to class labels\n",
    "predicted_labels_level1 = predictions_level1.argmax(axis=1)\n",
    "predicted_labels_level1_text = encoder1.inverse_transform(predicted_labels_level1) # Reverse predicted label encoding\n",
    "\n",
    "y1_test_original = np.argmax(y1_test, axis=1)  # Convert one-hot encoded labels back to categorical labels\n",
    "y1_test_original = encoder1.inverse_transform(y1_test_original)  # Reverse test label encoding\n",
    "\n",
    "# Calculate metrics\n",
    "accuracy = accuracy_score(y1_test_original, predicted_labels_level1_text)\n",
    "precision, recall, fscore, support = score(y1_test_original, predicted_labels_level1_text)\n",
    "\n",
    "print(\"\\n\")\n",
    "print('Precision: {}'.format(precision))\n",
    "print(\"\\n\")\n",
    "print('Recall: {}'.format(recall))\n",
    "print(\"\\n\")\n",
    "print('Fscore: {}'.format(fscore))\n",
    "print(\"\\n\")\n",
    "print('Support: {}'.format(support))\n",
    "print(\"\\n\")\n",
    "print('Accuracy: {:.2f}%'.format(accuracy * 100))\n",
    "print(\"\\n\")"
   ]
  },
  {
   "cell_type": "markdown",
   "id": "100e4e1e-8555-48c8-a882-7279c66a0675",
   "metadata": {},
   "source": [
    "### Count network inference time\n",
    "#### We call .predict on 20 random samples from the test set and calculate the average inference time"
   ]
  },
  {
   "cell_type": "code",
   "execution_count": 78,
   "id": "d116e0a1-f9a0-4e94-9ec4-52418bbd93f0",
   "metadata": {},
   "outputs": [
    {
     "name": "stdout",
     "output_type": "stream",
     "text": [
      "Average Inference Time: 35.54 ms\n"
     ]
    }
   ],
   "source": [
    "times = []\n",
    "\n",
    "for _ in range(20):\n",
    "    # select a random sample from the test set to run this iteration\n",
    "    random_index = np.random.randint(0, len(X_test_preprocessed))\n",
    "    random_sample = X_test_preprocessed[random_index]\n",
    "    \n",
    "    start_time = time.time()\n",
    "    level1_model.predict(np.array([random_sample]), verbose=0)\n",
    "    end_time = time.time()\n",
    "    \n",
    "    inference_time = 1000 * (end_time - start_time)\n",
    "    times.append(inference_time)\n",
    "\n",
    "average_inference_time = np.mean(times)\n",
    "print(f\"Average Inference Time: {average_inference_time:.2f} ms\")"
   ]
  },
  {
   "cell_type": "markdown",
   "id": "98fb20b0-94f0-4c81-af5d-8d77bc1428d8",
   "metadata": {},
   "source": [
    "### Plot a confusion matrix for visualization"
   ]
  },
  {
   "cell_type": "code",
   "execution_count": 42,
   "id": "a90408cb-31f5-482e-a49a-cbaf3886f620",
   "metadata": {},
   "outputs": [
    {
     "data": {
      "image/png": "[encoded data removed]",
      "text/plain": [
       "<Figure size 640x480 with 2 Axes>"
      ]
     },
     "metadata": {},
     "output_type": "display_data"
    }
   ],
   "source": [
    "cm = confusion_matrix(y1_test_original, predicted_labels_level1_text)\n",
    "disp = ConfusionMatrixDisplay(confusion_matrix=cm)\n",
    "disp.plot()\n",
    "plt.show()"
   ]
  },
  {
   "cell_type": "code",
   "execution_count": 43,
   "id": "1189f30d-9f93-45a5-b4c8-d80cd47e65e8",
   "metadata": {},
   "outputs": [
    {
     "name": "stdout",
     "output_type": "stream",
     "text": [
      "religion and belief\n",
      "society\n"
     ]
    }
   ],
   "source": [
    "print(y1_test_original[14])\n",
    "print(predicted_labels_level1_text[12])"
   ]
  },
  {
   "cell_type": "markdown",
   "id": "5b3cf116-05ad-4e02-a735-0eeba0b938a4",
   "metadata": {},
   "source": [
    "##### We notice the network gets confused in similar labels, for example it confused 14 (religion and belief) with 12 (society) a lot, which is indeed hard to classify, even for a human, and would probably need a larger sample to improve accuracy"
   ]
  },
  {
   "cell_type": "markdown",
   "id": "3cbb5863-252b-4a81-8727-95c0c8772f7b",
   "metadata": {},
   "source": [
    "<br>\n",
    "<br>\n",
    "<br>"
   ]
  },
  {
   "cell_type": "markdown",
   "id": "dda5eb5a-5c44-491d-9b56-73cd8eee455a",
   "metadata": {},
   "source": [
    "## LEVEL 2 (SUBCLASS) NETWORK"
   ]
  },
  {
   "cell_type": "markdown",
   "id": "9852db73-9efc-433f-b717-04eff08d09a2",
   "metadata": {},
   "source": [
    "<br>"
   ]
  },
  {
   "cell_type": "markdown",
   "id": "cb2cd2a2-78dc-4595-af67-a424134048b6",
   "metadata": {},
   "source": [
    "### We train the first network to classify the texts based on level 2 labels"
   ]
  },
  {
   "cell_type": "markdown",
   "id": "72b5afa0-8377-47e6-8f8d-09ed59d49010",
   "metadata": {},
   "source": [
    "### We define parameters, then the layers of the network and compile the model. We also split train and validation sets manually instead of using validation_split keras function<br>\n",
    "\n",
    "### The parameters are the same as above, with the level 2 labels this time, but the Dense Layer for the output has 109 filters (for 109 labels)."
   ]
  },
  {
   "cell_type": "code",
   "execution_count": 92,
   "id": "4fe05d48-fd1f-4717-a474-91d11501cadd",
   "metadata": {},
   "outputs": [],
   "source": [
    "embedding_dim = 100\n",
    "batch_size = 32\n",
    "epochs = 25\n",
    "\n",
    "level2_model = Sequential([\n",
    "    keras.layers.Embedding(input_dim=vocab_size, \n",
    "              output_dim=embedding_dim, \n",
    "              input_length=MAX_SEQUENCE_LENGTH, \n",
    "              trainable=True),\n",
    "    keras.layers.Conv1D(640, 2),\n",
    "    keras.layers.BatchNormalization(),\n",
    "    keras.layers.LeakyReLU(),\n",
    "    keras.layers.GlobalMaxPooling1D(),\n",
    "    keras.layers.Dropout(0.4),\n",
    "    keras.layers.Dense(640),\n",
    "    keras.layers.BatchNormalization(),\n",
    "    keras.layers.LeakyReLU(),\n",
    "    keras.layers.Dropout(0.3),\n",
    "    keras.layers.Dense(109, activation='softmax')\n",
    "])\n",
    "\n",
    "level2_model.compile(loss=tf.keras.losses.CategoricalCrossentropy(),optimizer=tf.keras.optimizers.RMSprop(learning_rate=0.0007, rho=0.5),\n",
    "                    metrics=['categorical_accuracy', tf.keras.metrics.Precision(), tf.keras.metrics.Recall()])\n",
    "\n",
    "X_train_new, X_val, y2_train_new, y2_val = train_test_split(X_train_preprocessed, y2_train, test_size=0.1, random_state=42)"
   ]
  },
  {
   "cell_type": "markdown",
   "id": "5630d02c-c9b9-4f07-9178-f5fb66263ec4",
   "metadata": {},
   "source": [
    "### Train the model"
   ]
  },
  {
   "cell_type": "code",
   "execution_count": 93,
   "id": "a985125c-9dc1-4dd4-a754-6804b3f2758b",
   "metadata": {},
   "outputs": [
    {
     "name": "stdout",
     "output_type": "stream",
     "text": [
      "Epoch 1/25\n",
      "246/246 [==============================] - 5s 16ms/step - loss: 4.9887 - categorical_accuracy: 0.0266 - precision_10: 0.6154 - recall_10: 0.0010 - val_loss: 5.3663 - val_categorical_accuracy: 0.0069 - val_precision_10: 0.0000e+00 - val_recall_10: 0.0000e+00\n",
      "Epoch 2/25\n",
      "246/246 [==============================] - 4s 15ms/step - loss: 3.8219 - categorical_accuracy: 0.1621 - precision_10: 0.5979 - recall_10: 0.0358 - val_loss: 4.0558 - val_categorical_accuracy: 0.1465 - val_precision_10: 0.0000e+00 - val_recall_10: 0.0000e+00\n",
      "Epoch 3/25\n",
      "246/246 [==============================] - 4s 15ms/step - loss: 2.9607 - categorical_accuracy: 0.3148 - precision_10: 0.6773 - recall_10: 0.1084 - val_loss: 2.6456 - val_categorical_accuracy: 0.3959 - val_precision_10: 0.7273 - val_recall_10: 0.1007\n",
      "Epoch 4/25\n",
      "246/246 [==============================] - 4s 15ms/step - loss: 2.4792 - categorical_accuracy: 0.4129 - precision_10: 0.6961 - recall_10: 0.1818 - val_loss: 2.2048 - val_categorical_accuracy: 0.4622 - val_precision_10: 0.7518 - val_recall_10: 0.2391\n",
      "Epoch 5/25\n",
      "246/246 [==============================] - 4s 15ms/step - loss: 2.1652 - categorical_accuracy: 0.4807 - precision_10: 0.7345 - recall_10: 0.2584 - val_loss: 2.0657 - val_categorical_accuracy: 0.4897 - val_precision_10: 0.7014 - val_recall_10: 0.2769\n",
      "Epoch 6/25\n",
      "246/246 [==============================] - 4s 15ms/step - loss: 1.8986 - categorical_accuracy: 0.5335 - precision_10: 0.7594 - recall_10: 0.3181 - val_loss: 1.9771 - val_categorical_accuracy: 0.5000 - val_precision_10: 0.7351 - val_recall_10: 0.3238\n",
      "Epoch 7/25\n",
      "246/246 [==============================] - 4s 15ms/step - loss: 1.7115 - categorical_accuracy: 0.5739 - precision_10: 0.7826 - recall_10: 0.3632 - val_loss: 1.8928 - val_categorical_accuracy: 0.5252 - val_precision_10: 0.6988 - val_recall_10: 0.3318\n",
      "Epoch 8/25\n",
      "246/246 [==============================] - 4s 15ms/step - loss: 1.5405 - categorical_accuracy: 0.6147 - precision_10: 0.8019 - recall_10: 0.4182 - val_loss: 1.8473 - val_categorical_accuracy: 0.5412 - val_precision_10: 0.7104 - val_recall_10: 0.3593\n",
      "Epoch 9/25\n",
      "246/246 [==============================] - 4s 15ms/step - loss: 1.3872 - categorical_accuracy: 0.6456 - precision_10: 0.8273 - recall_10: 0.4699 - val_loss: 1.7625 - val_categorical_accuracy: 0.5641 - val_precision_10: 0.7430 - val_recall_10: 0.3970\n",
      "Epoch 10/25\n",
      "246/246 [==============================] - 4s 15ms/step - loss: 1.2493 - categorical_accuracy: 0.6818 - precision_10: 0.8330 - recall_10: 0.5090 - val_loss: 1.7318 - val_categorical_accuracy: 0.5755 - val_precision_10: 0.7251 - val_recall_10: 0.4256\n",
      "Epoch 11/25\n",
      "246/246 [==============================] - 4s 15ms/step - loss: 1.1255 - categorical_accuracy: 0.7090 - precision_10: 0.8554 - recall_10: 0.5553 - val_loss: 1.7905 - val_categorical_accuracy: 0.5698 - val_precision_10: 0.7254 - val_recall_10: 0.4382\n",
      "Epoch 12/25\n",
      "246/246 [==============================] - 4s 15ms/step - loss: 0.9900 - categorical_accuracy: 0.7435 - precision_10: 0.8663 - recall_10: 0.5975 - val_loss: 1.7471 - val_categorical_accuracy: 0.5618 - val_precision_10: 0.7197 - val_recall_10: 0.4348\n",
      "Epoch 13/25\n",
      "246/246 [==============================] - 4s 15ms/step - loss: 0.9024 - categorical_accuracy: 0.7587 - precision_10: 0.8695 - recall_10: 0.6273 - val_loss: 1.7599 - val_categorical_accuracy: 0.5767 - val_precision_10: 0.7179 - val_recall_10: 0.4485\n",
      "Epoch 14/25\n",
      "246/246 [==============================] - 4s 15ms/step - loss: 0.8035 - categorical_accuracy: 0.7927 - precision_10: 0.8880 - recall_10: 0.6751 - val_loss: 1.7760 - val_categorical_accuracy: 0.5549 - val_precision_10: 0.7163 - val_recall_10: 0.4565\n",
      "Epoch 15/25\n",
      "246/246 [==============================] - 4s 15ms/step - loss: 0.7225 - categorical_accuracy: 0.8116 - precision_10: 0.8976 - recall_10: 0.7084 - val_loss: 1.7707 - val_categorical_accuracy: 0.5744 - val_precision_10: 0.7056 - val_recall_10: 0.4634\n",
      "Epoch 16/25\n",
      "246/246 [==============================] - 4s 15ms/step - loss: 0.6492 - categorical_accuracy: 0.8347 - precision_10: 0.9056 - recall_10: 0.7397 - val_loss: 1.8046 - val_categorical_accuracy: 0.5858 - val_precision_10: 0.7270 - val_recall_10: 0.4874\n",
      "Epoch 17/25\n",
      "246/246 [==============================] - 4s 15ms/step - loss: 0.5882 - categorical_accuracy: 0.8558 - precision_10: 0.9152 - recall_10: 0.7663 - val_loss: 1.8219 - val_categorical_accuracy: 0.5904 - val_precision_10: 0.7143 - val_recall_10: 0.4977\n",
      "Epoch 18/25\n",
      "246/246 [==============================] - 4s 15ms/step - loss: 0.5319 - categorical_accuracy: 0.8693 - precision_10: 0.9188 - recall_10: 0.7932 - val_loss: 1.8188 - val_categorical_accuracy: 0.5778 - val_precision_10: 0.7164 - val_recall_10: 0.5000\n",
      "Epoch 19/25\n",
      "246/246 [==============================] - 4s 15ms/step - loss: 0.4780 - categorical_accuracy: 0.8810 - precision_10: 0.9244 - recall_10: 0.8158 - val_loss: 1.8662 - val_categorical_accuracy: 0.5870 - val_precision_10: 0.6970 - val_recall_10: 0.4737\n",
      "Epoch 20/25\n",
      "246/246 [==============================] - 4s 15ms/step - loss: 0.4567 - categorical_accuracy: 0.8884 - precision_10: 0.9266 - recall_10: 0.8323 - val_loss: 1.8861 - val_categorical_accuracy: 0.5801 - val_precision_10: 0.6913 - val_recall_10: 0.4817\n",
      "Epoch 21/25\n",
      "246/246 [==============================] - 4s 15ms/step - loss: 0.4240 - categorical_accuracy: 0.8954 - precision_10: 0.9318 - recall_10: 0.8435 - val_loss: 1.9172 - val_categorical_accuracy: 0.5721 - val_precision_10: 0.7174 - val_recall_10: 0.4966\n",
      "Epoch 22/25\n",
      "246/246 [==============================] - 4s 15ms/step - loss: 0.4150 - categorical_accuracy: 0.9016 - precision_10: 0.9328 - recall_10: 0.8548 - val_loss: 1.9614 - val_categorical_accuracy: 0.5686 - val_precision_10: 0.6806 - val_recall_10: 0.4828\n",
      "Epoch 23/25\n",
      "246/246 [==============================] - 4s 15ms/step - loss: 0.4003 - categorical_accuracy: 0.9041 - precision_10: 0.9332 - recall_10: 0.8618 - val_loss: 1.9878 - val_categorical_accuracy: 0.5686 - val_precision_10: 0.6813 - val_recall_10: 0.4794\n",
      "Epoch 24/25\n",
      "246/246 [==============================] - 4s 15ms/step - loss: 0.3687 - categorical_accuracy: 0.9109 - precision_10: 0.9385 - recall_10: 0.8696 - val_loss: 2.0068 - val_categorical_accuracy: 0.5675 - val_precision_10: 0.6699 - val_recall_10: 0.4714\n",
      "Epoch 25/25\n",
      "246/246 [==============================] - 4s 15ms/step - loss: 0.3663 - categorical_accuracy: 0.9151 - precision_10: 0.9404 - recall_10: 0.8754 - val_loss: 2.0015 - val_categorical_accuracy: 0.5526 - val_precision_10: 0.6640 - val_recall_10: 0.4771\n",
      "\n",
      "\n",
      "----------------------\n",
      "\n",
      "Training Took: 92.22 sec\n"
     ]
    }
   ],
   "source": [
    "start_time = time.time()\n",
    "history_level2 = level2_model.fit(X_train_new, y2_train_new, epochs=epochs, batch_size=batch_size ,validation_data=(X_val, y2_val))\n",
    "end_time = time.time()\n",
    "\n",
    "print(f\"\\n\\n----------------------\\n\\nTraining Took: {(end_time-start_time):.2f} sec\")"
   ]
  },
  {
   "cell_type": "markdown",
   "id": "fe6373bb-36ae-4316-ac0f-dbf70f40e210",
   "metadata": {},
   "source": [
    "### Plot Train and Validation loss and accuracy"
   ]
  },
  {
   "cell_type": "code",
   "execution_count": 94,
   "id": "4897650f-a4e6-468a-85cf-c8509a4f8c1e",
   "metadata": {},
   "outputs": [
    {
     "data": {
      "image/png": "[encoded data removed]",
      "text/plain": [
       "<Figure size 640x480 with 1 Axes>"
      ]
     },
     "metadata": {},
     "output_type": "display_data"
    },
    {
     "data": {
      "image/png": "[encoded data removed]",
      "text/plain": [
       "<Figure size 640x480 with 1 Axes>"
      ]
     },
     "metadata": {},
     "output_type": "display_data"
    }
   ],
   "source": [
    "# loss plots\n",
    "plt.plot(history_level2.history['loss'], label='Train Loss')\n",
    "plt.plot(history_level2.history['val_loss'], label='Validation Loss')\n",
    "plt.title('Model Loss')\n",
    "plt.ylabel('Loss')\n",
    "plt.xlabel('Epoch')\n",
    "plt.legend()\n",
    "plt.show()\n",
    "\n",
    "# accuracy plots\n",
    "plt.plot(history_level2.history['categorical_accuracy'], label='Train Accuracy')\n",
    "plt.plot(history_level2.history['val_categorical_accuracy'], label='Validation Accuracy')\n",
    "plt.title('Model Accuracy')\n",
    "plt.ylabel('Accuracy')\n",
    "plt.xlabel('Epoch')\n",
    "plt.legend()\n",
    "plt.show()\n"
   ]
  },
  {
   "cell_type": "markdown",
   "id": "a5fe35c5-eda8-4011-be18-71c71db5d245",
   "metadata": {},
   "source": [
    "## Print final network weights after training\n",
    "### For each layer, we print the first 5 elements of each array for better readability\n",
    "### Obvisouly, layers like GlobalMaxPooling or the activation functions do not have weights, so nothing is printed for them"
   ]
  },
  {
   "cell_type": "code",
   "execution_count": 95,
   "id": "96f9b445-b824-48f3-b16a-e991bbeeea66",
   "metadata": {},
   "outputs": [
    {
     "name": "stdout",
     "output_type": "stream",
     "text": [
      "Layer Name: embedding_10\n",
      "[[-0.01440887  0.00416537  0.04257254 -0.02412954  0.07780127]\n",
      " [-0.01723665 -0.00464624  0.02117972  0.01101948  0.03310762]\n",
      " [ 0.00408162 -0.01163095  0.01282269 -0.00832041  0.01638003]\n",
      " [-0.01731153 -0.00021933  0.05182431 -0.00470647  0.045844  ]\n",
      " [-0.00496667 -0.00270515  0.03173357 -0.03052181  0.04095597]]\n",
      "No bias for this layer.\n",
      "----------------------------------------------------------------------------------\n",
      "Layer Name: conv1d_10\n",
      "[[[-8.4791511e-02  4.9122784e-02 -6.9724716e-02 ... -1.7643351e-02\n",
      "    3.5341050e-02  4.7028404e-02]\n",
      "  [ 3.7653919e-02  8.7409988e-02 -2.4280399e-02 ...  8.1414536e-02\n",
      "    3.3941459e-02 -5.6879923e-02]\n",
      "  [ 2.9340670e-03  6.4970315e-02 -5.9964168e-03 ...  2.3992367e-03\n",
      "   -5.1707566e-02  7.3063381e-02]\n",
      "  [ 6.8303384e-02 -6.4499512e-02  5.7285405e-03 ... -5.8882046e-02\n",
      "   -1.3031722e-02 -5.8717770e-04]\n",
      "  [-7.3031401e-03  7.8750891e-05  1.8985188e-02 ...  7.7426326e-03\n",
      "    6.6528194e-02  1.3530368e-02]]\n",
      "\n",
      " [[ 1.3578951e-03 -3.6338139e-03 -4.4992201e-02 ... -1.0167987e-01\n",
      "   -1.4551874e-02 -1.3339019e-02]\n",
      "  [-1.6991340e-02  8.8218031e-03  8.7609351e-02 ... -3.5957796e-03\n",
      "   -8.0057029e-03  1.8555388e-02]\n",
      "  [ 6.2431622e-02 -2.4417156e-02  2.9021576e-02 ...  2.9696558e-02\n",
      "   -6.4858533e-02 -3.1134805e-02]\n",
      "  [-6.6272043e-02  5.2103173e-02  5.6206524e-02 ...  2.2479102e-03\n",
      "    3.5821222e-02  4.8716292e-02]\n",
      "  [ 2.3782019e-02 -1.5065106e-02 -6.6770941e-02 ... -9.8177887e-02\n",
      "   -3.9941594e-02  7.3596957e-04]]]\n",
      "\n",
      "Bias:\n",
      "[ 0.0249756   0.04848857  0.00852764 -0.00798037  0.00556652]\n",
      "----------------------------------------------------------------------------------\n",
      "Layer Name: batch_normalization_20\n",
      "[0.83680326 0.8589274  0.8358963  0.875325   0.8284219 ]\n",
      "\n",
      "Bias:\n",
      "[-0.71276027 -0.64277005 -0.61146915 -0.6522822  -0.7085121 ]\n",
      "----------------------------------------------------------------------------------\n",
      "Layer Name: leaky_re_lu_20\n",
      "No weights found.\n",
      "No bias for this layer.\n",
      "----------------------------------------------------------------------------------\n",
      "Layer Name: global_max_pooling1d_10\n",
      "No weights found.\n",
      "No bias for this layer.\n",
      "----------------------------------------------------------------------------------\n",
      "Layer Name: dropout_20\n",
      "No weights found.\n",
      "No bias for this layer.\n",
      "----------------------------------------------------------------------------------\n",
      "Layer Name: dense_20\n",
      "[[ 0.01605344 -0.00063788  0.01345552  0.05210161  0.04671613]\n",
      " [ 0.1183939  -0.00601812 -0.05951952  0.10280026  0.07524282]\n",
      " [-0.01784351  0.05560108  0.04769656 -0.03832294  0.00637619]\n",
      " [-0.10278033 -0.08913799  0.09847417 -0.11111265 -0.01542586]\n",
      " [-0.02340367  0.0440547   0.05543057 -0.01557547  0.05917582]]\n",
      "\n",
      "Bias:\n",
      "[-2.5080034e-04 -1.7120919e-04 -6.0739392e-05 -4.2542585e-04\n",
      "  6.2674383e-04]\n",
      "----------------------------------------------------------------------------------\n",
      "Layer Name: batch_normalization_21\n",
      "[1.3970145 1.1569338 1.3748935 1.289593  1.4990093]\n",
      "\n",
      "Bias:\n",
      "[ 0.02886486 -0.12026217 -0.02571393  0.00177683 -0.02824886]\n",
      "----------------------------------------------------------------------------------\n",
      "Layer Name: leaky_re_lu_21\n",
      "No weights found.\n",
      "No bias for this layer.\n",
      "----------------------------------------------------------------------------------\n",
      "Layer Name: dropout_21\n",
      "No weights found.\n",
      "No bias for this layer.\n",
      "----------------------------------------------------------------------------------\n",
      "Layer Name: dense_21\n",
      "[[-0.7831851  -0.8365716  -0.800362   -0.7267524  -0.7608203 ]\n",
      " [-0.73360133 -0.68261063 -0.76497304 -0.71308213 -0.7066055 ]\n",
      " [-0.93506235 -0.9705541  -0.972795   -0.99216324 -0.9735196 ]\n",
      " [-0.79265505 -0.7912381  -0.79714936 -0.8043224  -0.801816  ]\n",
      " [-0.8728998  -0.9194015  -0.7771751  -0.99260527 -0.88504636]]\n",
      "\n",
      "Bias:\n",
      "[-1.0685694 -1.0497603 -1.1163788 -1.1789421 -1.0329467]\n",
      "----------------------------------------------------------------------------------\n"
     ]
    }
   ],
   "source": [
    "for layer in level2_model.layers:\n",
    "    layer_name = layer.name\n",
    "    weights = layer.get_weights()\n",
    "\n",
    "    print(\"Layer Name:\", layer_name)\n",
    "\n",
    "    if len(weights) > 0:\n",
    "        w = weights[0]\n",
    "        \n",
    "        if w.ndim == 1:\n",
    "            print(w[:5])  # first 5 elements for readability\n",
    "        else:\n",
    "            print(w[:5, :5])  # first 5 rows and columns for readability\n",
    "    else:\n",
    "        print(\"No weights found.\")\n",
    "\n",
    "    # Handle bias if present\n",
    "    if len(weights) > 1:\n",
    "        bias = weights[1]\n",
    "        print(\"\\nBias:\")\n",
    "        print(bias[:5])  # first 5 elements for readability\n",
    "    else:\n",
    "        print(\"No bias for this layer.\")\n",
    "    \n",
    "    print(\"----------------------------------------------------------------------------------\")"
   ]
  },
  {
   "cell_type": "markdown",
   "id": "5155cf4c-f59e-4bd9-93a3-4fa56c2bfb83",
   "metadata": {},
   "source": [
    "<br>\n",
    "<br>"
   ]
  },
  {
   "cell_type": "markdown",
   "id": "685f32b8-a8f2-4169-97ad-cac7d9eacd62",
   "metadata": {},
   "source": [
    "### Predict on the test set using the trained model and print statistics\n",
    "#### After predicting on the test set, we inverse the encoder transform on both the predicted labels and test labels in order to compare them properly and get the statistics"
   ]
  },
  {
   "cell_type": "code",
   "execution_count": 96,
   "id": "3139a026-861d-4997-9a83-69a4f5cccc47",
   "metadata": {},
   "outputs": [
    {
     "name": "stdout",
     "output_type": "stream",
     "text": [
      "69/69 [==============================] - 0s 4ms/step\n",
      "\n",
      "\n",
      "Precision: [0.58333333 0.58823529 0.66666667 0.94117647 0.61538462 0.83333333\n",
      " 0.7        0.36       0.77777778 0.20512821 0.47619048 0.65517241\n",
      " 0.61904762 0.54166667 0.6        0.6        0.37931034 0.76470588\n",
      " 0.9375     0.75       0.42857143 0.89473684 0.76923077 0.61538462\n",
      " 0.66666667 0.36       0.3125     1.         0.35       0.46666667\n",
      " 1.         0.76190476 0.08571429 0.41666667 0.375      0.7826087\n",
      " 0.6        0.82352941 0.7037037  0.78947368 0.375      0.61904762\n",
      " 0.4        0.53125    0.66666667 0.66666667 0.75       0.51515152\n",
      " 0.5        0.55555556 0.27777778 0.08823529 0.81818182 0.52631579\n",
      " 0.82352941 1.         0.58333333 0.875      0.81818182 0.66666667\n",
      " 0.94117647 0.45454545 0.57142857 0.7        0.47058824 0.35\n",
      " 0.86666667 0.34782609 0.65217391 0.63636364 0.40625    0.5\n",
      " 0.84210526 0.45454545 0.82352941 0.89473684 0.57894737 0.7\n",
      " 0.57894737 0.63636364 0.77272727 0.57142857 0.67567568 0.4\n",
      " 0.78571429 0.41176471 0.5        0.22727273 0.33333333 0.33333333\n",
      " 0.15384615 0.7        0.64285714 0.4        0.73333333 0.72222222\n",
      " 0.78947368 0.44444444 0.46153846 0.91666667 0.68965517 0.77777778\n",
      " 0.625      0.375      0.39130435 0.6875     0.46666667 0.6\n",
      " 0.77272727]\n",
      "\n",
      "\n",
      "Recall: [0.31818182 0.41666667 0.75       0.8        0.47058824 0.83333333\n",
      " 0.63636364 0.42857143 0.56       0.33333333 0.58823529 0.82608696\n",
      " 0.72222222 0.68421053 0.68181818 0.44444444 0.91666667 0.56521739\n",
      " 0.625      0.75       0.26086957 0.85       0.5        0.53333333\n",
      " 0.82352941 0.45       0.25       0.7        0.46666667 0.41176471\n",
      " 0.625      0.64       0.16666667 0.27777778 0.5625     0.72\n",
      " 0.83333333 0.73684211 0.76       0.65217391 0.31578947 0.61904762\n",
      " 0.41666667 0.77272727 0.6        0.81818182 0.70588235 0.73913043\n",
      " 0.33333333 0.71428571 0.23809524 0.15       0.5625     0.76923077\n",
      " 0.7        0.55555556 0.36842105 0.7        0.40909091 0.73684211\n",
      " 0.69565217 0.5        0.88888889 0.80769231 0.38095238 0.46666667\n",
      " 0.92857143 0.38095238 0.83333333 0.73684211 0.61904762 0.36842105\n",
      " 0.66666667 0.3125     0.66666667 0.85       0.73333333 0.26923077\n",
      " 0.5        0.60869565 0.70833333 0.5        0.83333333 0.18181818\n",
      " 0.73333333 0.46666667 0.14285714 0.3125     0.16666667 0.23076923\n",
      " 0.46153846 0.93333333 0.5        0.53333333 0.64705882 0.61904762\n",
      " 0.75       0.42105263 0.375      0.88       0.74074074 0.66666667\n",
      " 0.33333333 0.42857143 0.45       0.91666667 0.35       0.68181818\n",
      " 0.77272727]\n",
      "\n",
      "\n",
      "Fscore: [0.41176471 0.48780488 0.70588235 0.86486486 0.53333333 0.83333333\n",
      " 0.66666667 0.39130435 0.65116279 0.25396825 0.52631579 0.73076923\n",
      " 0.66666667 0.60465116 0.63829787 0.5106383  0.53658537 0.65\n",
      " 0.75       0.75       0.32432432 0.87179487 0.60606061 0.57142857\n",
      " 0.73684211 0.4        0.27777778 0.82352941 0.4        0.4375\n",
      " 0.76923077 0.69565217 0.11320755 0.33333333 0.45       0.75\n",
      " 0.69767442 0.77777778 0.73076923 0.71428571 0.34285714 0.61904762\n",
      " 0.40816327 0.62962963 0.63157895 0.73469388 0.72727273 0.60714286\n",
      " 0.4        0.625      0.25641026 0.11111111 0.66666667 0.625\n",
      " 0.75675676 0.71428571 0.4516129  0.77777778 0.54545455 0.7\n",
      " 0.8        0.47619048 0.69565217 0.75       0.42105263 0.4\n",
      " 0.89655172 0.36363636 0.73170732 0.68292683 0.49056604 0.42424242\n",
      " 0.74418605 0.37037037 0.73684211 0.87179487 0.64705882 0.38888889\n",
      " 0.53658537 0.62222222 0.73913043 0.53333333 0.74626866 0.25\n",
      " 0.75862069 0.4375     0.22222222 0.26315789 0.22222222 0.27272727\n",
      " 0.23076923 0.8        0.5625     0.45714286 0.6875     0.66666667\n",
      " 0.76923077 0.43243243 0.4137931  0.89795918 0.71428571 0.71794872\n",
      " 0.43478261 0.4        0.41860465 0.78571429 0.4        0.63829787\n",
      " 0.77272727]\n",
      "\n",
      "\n",
      "Support: [22 24 24 20 17 24 22 21 25 24 17 23 18 19 22 27 12 23 24 16 23 20 20 15\n",
      " 17 20 20 20 15 17 16 25 18 18 16 25 18 19 25 23 19 21 24 22 20 22 17 23\n",
      " 15 21 21 20 16 26 20 27 19 20 22 19 23 20 18 26 21 15 14 21 18 19 21 19\n",
      " 24 16 21 20 15 26 22 23 24 16 30 22 15 15 14 16 18 13 13 15 18 15 17 21\n",
      " 20 19 16 25 27 21 15 21 20 24 20 22 22]\n",
      "\n",
      "\n",
      "Accuracy: 58.20%\n",
      "\n",
      "\n"
     ]
    }
   ],
   "source": [
    "# credict on test data and print metrics\n",
    "predictions_level2 = level2_model.predict(X_test_preprocessed)\n",
    "\n",
    "# convert predictions to class labels\n",
    "predicted_labels_level2 = predictions_level2.argmax(axis=1)\n",
    "\n",
    "y2_test_original = np.argmax(y2_test, axis=1)  # convert one-hot encoded labels back to categorical labels\n",
    "y2_test_original = encoder2.inverse_transform(y2_test_original)  # ceverse test label encoding\n",
    "predicted_labels_level2_text = encoder2.inverse_transform(predicted_labels_level2) # ceverse predicted label encoding\n",
    "\n",
    "# calculate metrics\n",
    "accuracy = accuracy_score(y2_test_original, predicted_labels_level2_text)\n",
    "precision, recall, fscore, support = score(y2_test_original, predicted_labels_level2_text)\n",
    "\n",
    "print(\"\\n\")\n",
    "print('Precision: {}'.format(precision))\n",
    "print(\"\\n\")\n",
    "print('Recall: {}'.format(recall))\n",
    "print(\"\\n\")\n",
    "print('Fscore: {}'.format(fscore))\n",
    "print(\"\\n\")\n",
    "print('Support: {}'.format(support))\n",
    "print(\"\\n\")\n",
    "print('Accuracy: {:.2f}%'.format(accuracy * 100))\n",
    "print(\"\\n\")"
   ]
  },
  {
   "cell_type": "markdown",
   "id": "5e096703-89a1-4438-a85d-d60a94b5c173",
   "metadata": {},
   "source": [
    "### Count network inference time\n",
    "#### We call .predict on 20 random samples from the test set and calculate the average inference time"
   ]
  },
  {
   "cell_type": "code",
   "execution_count": 97,
   "id": "fcb0887c-c4c5-4287-b907-aaf9c724de11",
   "metadata": {},
   "outputs": [
    {
     "name": "stdout",
     "output_type": "stream",
     "text": [
      "Average Inference Time: 36.51 ms\n"
     ]
    }
   ],
   "source": [
    "times = []\n",
    "\n",
    "for _ in range(20):\n",
    "    # select a random sample from the test set to run this iteration\n",
    "    random_index = np.random.randint(0, len(X_test_preprocessed))\n",
    "    random_sample = X_test_preprocessed[random_index]\n",
    "    \n",
    "    start_time = time.time()\n",
    "    level2_model.predict(np.array([random_sample]), verbose=0)\n",
    "    end_time = time.time()\n",
    "    \n",
    "    inference_time = 1000 * (end_time - start_time)\n",
    "    times.append(inference_time)\n",
    "\n",
    "average_inference_time = np.mean(times)\n",
    "print(f\"Average Inference Time: {average_inference_time:.2f} ms\")"
   ]
  },
  {
   "cell_type": "markdown",
   "id": "bb1f7301-a8e2-43e7-b187-77de773d8948",
   "metadata": {},
   "source": [
    "### Since we have too many classes (109), a confusion matrix would be of no use since it would be too clustered to read any data"
   ]
  },
  {
   "cell_type": "markdown",
   "id": "00b8b0dc-113c-4c1d-8784-2ea762c88ff7",
   "metadata": {},
   "source": [
    "<br>\n",
    "<br>\n",
    "<br>\n",
    "<br>\n",
    " <br>\n",
    " <br>\n",
    " <br>\n",
    " <br>\n",
    " <br>"
   ]
  },
  {
   "cell_type": "markdown",
   "id": "fb9a107a-6fca-41ef-a9b0-b2b8be1f03a2",
   "metadata": {},
   "source": [
    "# Transformers Implementation"
   ]
  },
  {
   "cell_type": "markdown",
   "id": "662134a8-504e-472b-83ef-17648df35dca",
   "metadata": {},
   "source": [
    "### The results above are satisfactory for this dataset, but we wanted to attempt to see how high the accuracy can get. So we decided to utilize transformers, which are pretrained models, for our classification task (essentially we did transfer learning). We chose the distilbert-base-uncased model, since it's a faster variation of the well-performing bert-base-uncased model.<br>\n",
    "\n",
    "### We did a simple preprocessing by shuffling the dataset, mapping the labels to numbers and tokenizing the data\n",
    "### We then initialized the model with GPU (if available) and the training parameters:\n",
    "#### learning rate: 2e-5\n",
    "#### optimizer: adamw\n",
    "#### train batch size: 16\n",
    "#### eval batch size: 64\n",
    "#### warmup steps: 500\n",
    "#### weight decay: 1e-5\n",
    "#### train epochs: 15"
   ]
  },
  {
   "cell_type": "markdown",
   "id": "81519f4b-be26-4a81-a781-7b709bc1b732",
   "metadata": {},
   "source": [
    "<br><br><br>"
   ]
  },
  {
   "cell_type": "markdown",
   "id": "ea165e72-34af-48de-817a-29bb62f8bacd",
   "metadata": {},
   "source": [
    "## For level 1 classification"
   ]
  },
  {
   "cell_type": "markdown",
   "id": "47f171bb-8c66-453e-a692-f974dfb3cdab",
   "metadata": {},
   "source": [
    "### Do the necessary preprocessing"
   ]
  },
  {
   "cell_type": "code",
   "execution_count": 8,
   "id": "c3fc8e84-ad55-4fe8-964b-fddb43a091dc",
   "metadata": {},
   "outputs": [
    {
     "data": {
      "application/vnd.jupyter.widget-view+json": {
       "model_id": "1eab94712fd946928d5b3368f98e97cb",
       "version_major": 2,
       "version_minor": 0
      },
      "text/plain": [
       "Map:   0%|          | 0/8733 [00:00<?, ? examples/s]"
      ]
     },
     "metadata": {},
     "output_type": "display_data"
    },
    {
     "data": {
      "application/vnd.jupyter.widget-view+json": {
       "model_id": "1261ab5a664f4320a754ca24df20b34e",
       "version_major": 2,
       "version_minor": 0
      },
      "text/plain": [
       "Map:   0%|          | 0/2184 [00:00<?, ? examples/s]"
      ]
     },
     "metadata": {},
     "output_type": "display_data"
    }
   ],
   "source": [
    "def preprocess_function(txt):\n",
    "    return tokenizer(txt[\"text\"], truncation=True, padding=True, max_length=512)\n",
    "\n",
    "def pipeline(dataframe):\n",
    "    dataset = Dataset.from_pandas(dataframe, preserve_index=False)\n",
    "    tokenized_ds = dataset.map(preprocess_function, batched=True)\n",
    "    tokenized_ds = tokenized_ds.remove_columns('text')\n",
    "    return tokenized_ds\n",
    "\n",
    "pretrained_model = \"distilbert-base-uncased\"\n",
    "\n",
    "df = pd.read_csv('news-classification.csv')\n",
    "df = df[['content', 'category_level_1']].rename(columns={'content': 'text', 'category_level_1': 'label'})\n",
    "\n",
    "# get unique labels\n",
    "unique_labels = df['label'].unique()\n",
    "\n",
    "# shuffle dataset\n",
    "df = df.sample(frac=1).reset_index(drop=True)\n",
    "\n",
    "# map unique labels to numbers\n",
    "label_to_index = {label: index for index, label in enumerate(unique_labels)}\n",
    "\n",
    "# map categories to numerical values\n",
    "df['label'] = df['label'].map(label_to_index)\n",
    "\n",
    "# split data into train and validation sets\n",
    "train_df, val_df = train_test_split(df[['text', 'label']], test_size=0.2, random_state=42)\n",
    "\n",
    "# tokenize the text using transformers tokenizer\n",
    "tokenizer = AutoTokenizer.from_pretrained(pretrained_model)\n",
    "\n",
    "tokenized_train = pipeline(train_df)\n",
    "tokenized_val = pipeline(val_df)\n",
    "\n",
    "data_collator = DataCollatorWithPadding(tokenizer=tokenizer)"
   ]
  },
  {
   "cell_type": "markdown",
   "id": "41f47d43-dad7-476c-b26a-076f37b72189",
   "metadata": {},
   "source": [
    "### Initialize the model"
   ]
  },
  {
   "cell_type": "code",
   "execution_count": 10,
   "id": "86379679-6992-4d06-b15f-c9b14dc3c98e",
   "metadata": {},
   "outputs": [
    {
     "name": "stderr",
     "output_type": "stream",
     "text": [
      "Some weights of DistilBertForSequenceClassification were not initialized from the model checkpoint at distilbert-base-uncased and are newly initialized: ['classifier.bias', 'classifier.weight', 'pre_classifier.bias', 'pre_classifier.weight']\n",
      "You should probably TRAIN this model on a down-stream task to be able to use it for predictions and inference.\n"
     ]
    }
   ],
   "source": [
    "# select gpu if available\n",
    "device = 'cuda' if torch.cuda.is_available() else 'cpu'\n",
    "model = AutoModelForSequenceClassification.from_pretrained(pretrained_model, num_labels=17).to(device)\n",
    "\n",
    "# set up model and initialize trainer\n",
    "training_args = TrainingArguments(\n",
    "    output_dir=\"./results\",\n",
    "    save_strategy='epoch',\n",
    "    optim=\"adamw_torch\",\n",
    "    learning_rate=2e-5,\n",
    "    per_device_train_batch_size=16,\n",
    "    per_device_eval_batch_size=64,\n",
    "    num_train_epochs=15,\n",
    "    warmup_steps=500,\n",
    "    weight_decay=1e-5,\n",
    "    report_to=\"none\",\n",
    ")\n",
    "\n",
    "trainer = Trainer(\n",
    "    model=model,\n",
    "    args=training_args,\n",
    "    train_dataset=tokenized_train,\n",
    "    eval_dataset=tokenized_val,\n",
    "    tokenizer=tokenizer,\n",
    "    data_collator=data_collator,\n",
    ")"
   ]
  },
  {
   "cell_type": "markdown",
   "id": "135e3d7b-5ff1-4d3a-a6ad-09f61fe5832b",
   "metadata": {},
   "source": [
    "### Train the model"
   ]
  },
  {
   "cell_type": "code",
   "execution_count": 11,
   "id": "b8b0ab18-7eba-47c4-bb9b-fcb7e5b9e45c",
   "metadata": {},
   "outputs": [
    {
     "data": {
      "text/html": [
       "\n",
       "    <div>\n",
       "      \n",
       "      <progress value='8190' max='8190' style='width:300px; height:20px; vertical-align: middle;'></progress>\n",
       "      [8190/8190 50:06, Epoch 15/15]\n",
       "    </div>\n",
       "    <table border=\"1\" class=\"dataframe\">\n",
       "  <thead>\n",
       " <tr style=\"text-align: left;\">\n",
       "      <th>Step</th>\n",
       "      <th>Training Loss</th>\n",
       "    </tr>\n",
       "  </thead>\n",
       "  <tbody>\n",
       "    <tr>\n",
       "      <td>500</td>\n",
       "      <td>2.194200</td>\n",
       "    </tr>\n",
       "    <tr>\n",
       "      <td>1000</td>\n",
       "      <td>0.960500</td>\n",
       "    </tr>\n",
       "    <tr>\n",
       "      <td>1500</td>\n",
       "      <td>0.632400</td>\n",
       "    </tr>\n",
       "    <tr>\n",
       "      <td>2000</td>\n",
       "      <td>0.477100</td>\n",
       "    </tr>\n",
       "    <tr>\n",
       "      <td>2500</td>\n",
       "      <td>0.364300</td>\n",
       "    </tr>\n",
       "    <tr>\n",
       "      <td>3000</td>\n",
       "      <td>0.293900</td>\n",
       "    </tr>\n",
       "    <tr>\n",
       "      <td>3500</td>\n",
       "      <td>0.235300</td>\n",
       "    </tr>\n",
       "    <tr>\n",
       "      <td>4000</td>\n",
       "      <td>0.186900</td>\n",
       "    </tr>\n",
       "    <tr>\n",
       "      <td>4500</td>\n",
       "      <td>0.151900</td>\n",
       "    </tr>\n",
       "    <tr>\n",
       "      <td>5000</td>\n",
       "      <td>0.136200</td>\n",
       "    </tr>\n",
       "    <tr>\n",
       "      <td>5500</td>\n",
       "      <td>0.112100</td>\n",
       "    </tr>\n",
       "    <tr>\n",
       "      <td>6000</td>\n",
       "      <td>0.105500</td>\n",
       "    </tr>\n",
       "    <tr>\n",
       "      <td>6500</td>\n",
       "      <td>0.086300</td>\n",
       "    </tr>\n",
       "    <tr>\n",
       "      <td>7000</td>\n",
       "      <td>0.069500</td>\n",
       "    </tr>\n",
       "    <tr>\n",
       "      <td>7500</td>\n",
       "      <td>0.069500</td>\n",
       "    </tr>\n",
       "    <tr>\n",
       "      <td>8000</td>\n",
       "      <td>0.054200</td>\n",
       "    </tr>\n",
       "  </tbody>\n",
       "</table><p>"
      ],
      "text/plain": [
       "<IPython.core.display.HTML object>"
      ]
     },
     "metadata": {},
     "output_type": "display_data"
    },
    {
     "data": {
      "text/plain": [
       "TrainOutput(global_step=8190, training_loss=0.37554137144915495, metrics={'train_runtime': 3006.622, 'train_samples_per_second': 43.569, 'train_steps_per_second': 2.724, 'total_flos': 1.735720876288512e+16, 'train_loss': 0.37554137144915495, 'epoch': 15.0})"
      ]
     },
     "execution_count": 11,
     "metadata": {},
     "output_type": "execute_result"
    }
   ],
   "source": [
    "trainer.train()"
   ]
  },
  {
   "cell_type": "markdown",
   "id": "33ab57eb-b495-4c2b-8f93-55cf2bc37241",
   "metadata": {},
   "source": [
    "### Save the model and tokenizer to disk"
   ]
  },
  {
   "cell_type": "code",
   "execution_count": 13,
   "id": "e3c1c8c6-d89a-43e8-901f-02cefcf5ce5b",
   "metadata": {},
   "outputs": [
    {
     "data": {
      "text/plain": [
       "('./level1_model\\\\tokenizer_config.json',\n",
       " './level1_model\\\\special_tokens_map.json',\n",
       " './level1_model\\\\vocab.txt',\n",
       " './level1_model\\\\added_tokens.json',\n",
       " './level1_model\\\\tokenizer.json')"
      ]
     },
     "execution_count": 13,
     "metadata": {},
     "output_type": "execute_result"
    }
   ],
   "source": [
    "# Save the model and tokenizer\n",
    "model_path = \"./level1_model\"\n",
    "tokenizer_path = model_path # It's common to save both in the same directory\n",
    "\n",
    "trainer.save_model(model_path)\n",
    "tokenizer.save_pretrained(tokenizer_path)"
   ]
  },
  {
   "cell_type": "markdown",
   "id": "78d4e61e-5411-434a-9226-826584aa5950",
   "metadata": {},
   "source": [
    "\n",
    "### Predict on the test set and print statistics"
   ]
  },
  {
   "cell_type": "code",
   "execution_count": 12,
   "id": "80c2fdd9-7eb5-400d-83be-e04778279124",
   "metadata": {},
   "outputs": [
    {
     "data": {
      "application/vnd.jupyter.widget-view+json": {
       "model_id": "97055b6d77ac4216ae335e2ee8011386",
       "version_major": 2,
       "version_minor": 0
      },
      "text/plain": [
       "Map:   0%|          | 0/2184 [00:00<?, ? examples/s]"
      ]
     },
     "metadata": {},
     "output_type": "display_data"
    },
    {
     "data": {
      "text/html": [],
      "text/plain": [
       "<IPython.core.display.HTML object>"
      ]
     },
     "metadata": {},
     "output_type": "display_data"
    },
    {
     "data": {
      "image/png": "[encoded data removed]",
      "text/plain": [
       "<Figure size 640x480 with 2 Axes>"
      ]
     },
     "metadata": {},
     "output_type": "display_data"
    },
    {
     "name": "stdout",
     "output_type": "stream",
     "text": [
      "precision: [0.72641509 0.78846154 0.68085106 0.80208333 0.81300813 0.83653846\n",
      " 0.76923077 0.74615385 0.78431373 0.72093023 0.85815603 0.78443114\n",
      " 0.7518797  0.74596774 0.92265193 0.82738095 0.85333333]\n",
      "recall: [0.86516854 0.66129032 0.72727273 0.71296296 0.86206897 0.75\n",
      " 0.78571429 0.78225806 0.8        0.70454545 0.82876712 0.7797619\n",
      " 0.68027211 0.75819672 0.92777778 0.86335404 0.92753623]\n",
      "fscore: [0.78974359 0.71929825 0.7032967  0.75490196 0.83682008 0.79090909\n",
      " 0.77738516 0.76377953 0.79207921 0.71264368 0.84320557 0.78208955\n",
      " 0.71428571 0.75203252 0.92520776 0.8449848  0.88888889]\n",
      "support: [ 89  62  88 108 116 116 140 124  50 176 146 168 147 244 180 161  69]\n",
      "Accuracy: 0.7893772893772893\n"
     ]
    }
   ],
   "source": [
    "tokenized_test = pipeline(val_df)\n",
    "\n",
    "tokenized_test = tokenized_test.remove_columns('label')\n",
    "\n",
    "preds = trainer.predict(tokenized_val)\n",
    "\n",
    "preds_flat = [np.argmax(x) for x in preds[0]]\n",
    "\n",
    "len(preds_flat)\n",
    "\n",
    "cm = confusion_matrix(val_df['label'], preds_flat)\n",
    "disp = ConfusionMatrixDisplay(confusion_matrix=cm)\n",
    "disp.plot()\n",
    "plt.show()\n",
    "\n",
    "precision, recall, fscore, support = score(val_df['label'], preds_flat)\n",
    "accuracy = accuracy_score(val_df['label'], preds_flat, normalize=True)\n",
    "\n",
    "print('precision: {}'.format(precision))\n",
    "print('recall: {}'.format(recall))\n",
    "print('fscore: {}'.format(fscore))\n",
    "print('support: {}'.format(support))\n",
    "\n",
    "print('Accuracy: {}'.format(accuracy))"
   ]
  },
  {
   "cell_type": "markdown",
   "id": "82109988-06a5-4d23-8ddc-ac3011cf7ae3",
   "metadata": {},
   "source": [
    "<br>\n",
    "<br>\n",
    "<br>\n",
    "<br>\n",
    "<br>\n",
    "<br>"
   ]
  },
  {
   "cell_type": "markdown",
   "id": "c82a09d5-6f1a-4bcd-89c6-bf558f727340",
   "metadata": {},
   "source": [
    "## For level 2 classification"
   ]
  },
  {
   "cell_type": "markdown",
   "id": "2c22ae7c-2b51-4d1d-893e-f455b14d2b5d",
   "metadata": {},
   "source": [
    "### Do the necessary preprocessing"
   ]
  },
  {
   "cell_type": "code",
   "execution_count": 14,
   "id": "2b88ebd2-9ab6-4e22-9868-82c6d787566b",
   "metadata": {},
   "outputs": [
    {
     "data": {
      "application/vnd.jupyter.widget-view+json": {
       "model_id": "bd21a7db475a41c5a24ecb5d6de6252b",
       "version_major": 2,
       "version_minor": 0
      },
      "text/plain": [
       "Map:   0%|          | 0/8733 [00:00<?, ? examples/s]"
      ]
     },
     "metadata": {},
     "output_type": "display_data"
    },
    {
     "data": {
      "application/vnd.jupyter.widget-view+json": {
       "model_id": "a47b9b9a040248898cb4122ae5827c40",
       "version_major": 2,
       "version_minor": 0
      },
      "text/plain": [
       "Map:   0%|          | 0/2184 [00:00<?, ? examples/s]"
      ]
     },
     "metadata": {},
     "output_type": "display_data"
    }
   ],
   "source": [
    "def preprocess_function(txt):\n",
    "    return tokenizer(txt[\"text\"], truncation=True, padding=True, max_length=512)\n",
    "\n",
    "def pipeline(dataframe):\n",
    "    dataset = Dataset.from_pandas(dataframe, preserve_index=False)\n",
    "    tokenized_ds = dataset.map(preprocess_function, batched=True)\n",
    "    tokenized_ds = tokenized_ds.remove_columns('text')\n",
    "    return tokenized_ds\n",
    "\n",
    "pretrained_model = \"distilbert-base-uncased\"\n",
    "\n",
    "df = pd.read_csv('news-classification.csv')\n",
    "df = df[['content', 'category_level_2']].rename(columns={'content': 'text', 'category_level_2': 'label'})\n",
    "\n",
    "# get unique labels\n",
    "unique_labels = df['label'].unique()\n",
    "\n",
    "# shuffle dataset\n",
    "df = df.sample(frac=1).reset_index(drop=True)\n",
    "\n",
    "# map unique labels to numbers\n",
    "label_to_index = {label: index for index, label in enumerate(unique_labels)}\n",
    "\n",
    "# map categories to numerical values\n",
    "df['label'] = df['label'].map(label_to_index)\n",
    "\n",
    "# split data into train and validation sets\n",
    "train_df, val_df = train_test_split(df[['text', 'label']], test_size=0.2, random_state=42)\n",
    "\n",
    "# tokenize the text using transformers tokenizer\n",
    "tokenizer = AutoTokenizer.from_pretrained(pretrained_model)\n",
    "\n",
    "tokenized_train = pipeline(train_df)\n",
    "tokenized_val = pipeline(val_df)\n",
    "\n",
    "data_collator = DataCollatorWithPadding(tokenizer=tokenizer)"
   ]
  },
  {
   "cell_type": "markdown",
   "id": "538f570f-8755-4879-970a-ca1961fbe230",
   "metadata": {},
   "source": [
    "### Initialize the model"
   ]
  },
  {
   "cell_type": "code",
   "execution_count": 15,
   "id": "a2570f19-24d2-4e24-9232-8e7a95497acd",
   "metadata": {},
   "outputs": [
    {
     "name": "stderr",
     "output_type": "stream",
     "text": [
      "Some weights of DistilBertForSequenceClassification were not initialized from the model checkpoint at distilbert-base-uncased and are newly initialized: ['classifier.bias', 'classifier.weight', 'pre_classifier.bias', 'pre_classifier.weight']\n",
      "You should probably TRAIN this model on a down-stream task to be able to use it for predictions and inference.\n"
     ]
    }
   ],
   "source": [
    "# select gpu if available\n",
    "device = 'cuda' if torch.cuda.is_available() else 'cpu'\n",
    "model = AutoModelForSequenceClassification.from_pretrained(pretrained_model, num_labels=109).to(device)\n",
    "\n",
    "# set up model and initialize trainer\n",
    "training_args = TrainingArguments(\n",
    "    output_dir=\"./results2\",\n",
    "    save_strategy='epoch',\n",
    "    optim=\"adamw_torch\",\n",
    "    learning_rate=2e-5,\n",
    "    per_device_train_batch_size=16,\n",
    "    per_device_eval_batch_size=64,\n",
    "    num_train_epochs=15,\n",
    "    warmup_steps=500,\n",
    "    weight_decay=1e-5,\n",
    "    report_to=\"none\",\n",
    ")\n",
    "\n",
    "trainer = Trainer(\n",
    "    model=model,\n",
    "    args=training_args,\n",
    "    train_dataset=tokenized_train,\n",
    "    eval_dataset=tokenized_val,\n",
    "    tokenizer=tokenizer,\n",
    "    data_collator=data_collator,\n",
    ")"
   ]
  },
  {
   "cell_type": "markdown",
   "id": "cca1f60b-4b7c-4e88-acea-b2a9d374f1ba",
   "metadata": {},
   "source": [
    "### Train the model"
   ]
  },
  {
   "cell_type": "code",
   "execution_count": 16,
   "id": "b85952a6-656c-4bc2-8a65-aba6b30392b8",
   "metadata": {},
   "outputs": [
    {
     "data": {
      "text/html": [
       "\n",
       "    <div>\n",
       "      \n",
       "      <progress value='8190' max='8190' style='width:300px; height:20px; vertical-align: middle;'></progress>\n",
       "      [8190/8190 50:24, Epoch 15/15]\n",
       "    </div>\n",
       "    <table border=\"1\" class=\"dataframe\">\n",
       "  <thead>\n",
       " <tr style=\"text-align: left;\">\n",
       "      <th>Step</th>\n",
       "      <th>Training Loss</th>\n",
       "    </tr>\n",
       "  </thead>\n",
       "  <tbody>\n",
       "    <tr>\n",
       "      <td>500</td>\n",
       "      <td>4.462700</td>\n",
       "    </tr>\n",
       "    <tr>\n",
       "      <td>1000</td>\n",
       "      <td>3.153200</td>\n",
       "    </tr>\n",
       "    <tr>\n",
       "      <td>1500</td>\n",
       "      <td>2.144700</td>\n",
       "    </tr>\n",
       "    <tr>\n",
       "      <td>2000</td>\n",
       "      <td>1.538400</td>\n",
       "    </tr>\n",
       "    <tr>\n",
       "      <td>2500</td>\n",
       "      <td>1.175600</td>\n",
       "    </tr>\n",
       "    <tr>\n",
       "      <td>3000</td>\n",
       "      <td>0.953300</td>\n",
       "    </tr>\n",
       "    <tr>\n",
       "      <td>3500</td>\n",
       "      <td>0.764400</td>\n",
       "    </tr>\n",
       "    <tr>\n",
       "      <td>4000</td>\n",
       "      <td>0.634700</td>\n",
       "    </tr>\n",
       "    <tr>\n",
       "      <td>4500</td>\n",
       "      <td>0.543700</td>\n",
       "    </tr>\n",
       "    <tr>\n",
       "      <td>5000</td>\n",
       "      <td>0.457000</td>\n",
       "    </tr>\n",
       "    <tr>\n",
       "      <td>5500</td>\n",
       "      <td>0.391600</td>\n",
       "    </tr>\n",
       "    <tr>\n",
       "      <td>6000</td>\n",
       "      <td>0.339600</td>\n",
       "    </tr>\n",
       "    <tr>\n",
       "      <td>6500</td>\n",
       "      <td>0.289700</td>\n",
       "    </tr>\n",
       "    <tr>\n",
       "      <td>7000</td>\n",
       "      <td>0.262000</td>\n",
       "    </tr>\n",
       "    <tr>\n",
       "      <td>7500</td>\n",
       "      <td>0.234500</td>\n",
       "    </tr>\n",
       "    <tr>\n",
       "      <td>8000</td>\n",
       "      <td>0.220100</td>\n",
       "    </tr>\n",
       "  </tbody>\n",
       "</table><p>"
      ],
      "text/plain": [
       "<IPython.core.display.HTML object>"
      ]
     },
     "metadata": {},
     "output_type": "display_data"
    },
    {
     "data": {
      "text/plain": [
       "TrainOutput(global_step=8190, training_loss=1.0771071288466307, metrics={'train_runtime': 3025.0625, 'train_samples_per_second': 43.303, 'train_steps_per_second': 2.707, 'total_flos': 1.738567893533184e+16, 'train_loss': 1.0771071288466307, 'epoch': 15.0})"
      ]
     },
     "execution_count": 16,
     "metadata": {},
     "output_type": "execute_result"
    }
   ],
   "source": [
    "trainer.train()"
   ]
  },
  {
   "cell_type": "markdown",
   "id": "0e88affa-9e07-493f-9c3c-32fbe9ba1259",
   "metadata": {},
   "source": [
    "### Save the model and tokenizer to disk"
   ]
  },
  {
   "cell_type": "code",
   "execution_count": 85,
   "id": "0b86dbfa-0e20-4c4e-852c-b00ee3fbdcd1",
   "metadata": {},
   "outputs": [
    {
     "data": {
      "text/plain": [
       "('./saved_model2\\\\tokenizer_config.json',\n",
       " './saved_model2\\\\special_tokens_map.json',\n",
       " './saved_model2\\\\vocab.txt',\n",
       " './saved_model2\\\\added_tokens.json',\n",
       " './saved_model2\\\\tokenizer.json')"
      ]
     },
     "execution_count": 85,
     "metadata": {},
     "output_type": "execute_result"
    }
   ],
   "source": [
    "# Save the model and tokenizer\n",
    "model_path = \"./saved_model2\"\n",
    "tokenizer_path = model_path # It's common to save both in the same directory\n",
    "\n",
    "trainer.save_model(model_path)\n",
    "tokenizer.save_pretrained(tokenizer_path)"
   ]
  },
  {
   "cell_type": "markdown",
   "id": "8d64a048-af87-46f6-b3f9-1dc5df2267a0",
   "metadata": {},
   "source": [
    "\n",
    "### Predict on the test set and print statistics"
   ]
  },
  {
   "cell_type": "code",
   "execution_count": 18,
   "id": "a09bc8eb-511b-4c62-9f3a-056676d43127",
   "metadata": {},
   "outputs": [
    {
     "data": {
      "application/vnd.jupyter.widget-view+json": {
       "model_id": "34e93c53c5774f6a8b5457477b49bc07",
       "version_major": 2,
       "version_minor": 0
      },
      "text/plain": [
       "Map:   0%|          | 0/2184 [00:00<?, ? examples/s]"
      ]
     },
     "metadata": {},
     "output_type": "display_data"
    },
    {
     "data": {
      "text/html": [],
      "text/plain": [
       "<IPython.core.display.HTML object>"
      ]
     },
     "metadata": {},
     "output_type": "display_data"
    },
    {
     "name": "stdout",
     "output_type": "stream",
     "text": [
      "precision: [0.88235294 0.54545455 0.73076923 0.52173913 0.68181818 0.56521739\n",
      " 0.66666667 0.5        0.81481481 0.66666667 0.52173913 0.85\n",
      " 0.7        0.5        0.5        0.64705882 0.35294118 0.66666667\n",
      " 0.36       0.94117647 0.33333333 0.15789474 0.63636364 0.5\n",
      " 0.52631579 0.65       0.47826087 0.72727273 0.65217391 0.54545455\n",
      " 0.84615385 0.52173913 0.44444444 0.4        0.64       0.78947368\n",
      " 0.5        0.59259259 0.94736842 0.77272727 0.89473684 0.8\n",
      " 0.5625     0.44       0.26666667 0.4        0.14285714 0.46153846\n",
      " 0.56521739 0.55555556 0.53846154 0.53846154 0.28       0.75\n",
      " 0.70588235 0.77777778 0.6        0.64       0.80952381 0.36363636\n",
      " 0.52941176 0.73684211 0.68421053 0.73333333 0.84210526 1.\n",
      " 0.60869565 0.75       0.78947368 0.6        0.6        0.75\n",
      " 0.66666667 0.8        0.8        0.95454545 0.47058824 0.95454545\n",
      " 0.7037037  0.85       0.85       0.86956522 0.77777778 0.6875\n",
      " 0.86363636 0.56521739 0.5625     0.84615385 1.         0.76190476\n",
      " 0.72       0.45454545 0.64516129 0.875      0.42857143 0.77777778\n",
      " 0.63157895 0.4        0.70588235 0.52173913 0.3125     0.60869565\n",
      " 0.42105263 0.35294118 0.36363636 0.56521739 0.44444444 0.64285714\n",
      " 0.47368421]\n",
      "recall: [0.78947368 0.8        0.67857143 0.57142857 0.88235294 0.59090909\n",
      " 0.52173913 0.38461538 0.75862069 0.64       0.46153846 0.51515152\n",
      " 0.93333333 0.5625     0.47368421 0.61111111 0.3        0.63157895\n",
      " 0.5625     0.8        0.3125     0.15789474 0.63636364 0.47368421\n",
      " 0.47619048 0.8125     0.5        0.66666667 0.88235294 0.54545455\n",
      " 0.64705882 0.57142857 0.38095238 0.6        0.72727273 0.9375\n",
      " 0.46153846 0.88888889 0.7826087  0.80952381 0.89473684 1.\n",
      " 0.47368421 0.44       0.19047619 0.23529412 0.16666667 0.31578947\n",
      " 0.68421053 0.55555556 0.63636364 0.63636364 0.41176471 0.78947368\n",
      " 0.70588235 0.77777778 0.64285714 0.64       0.73913043 0.42105263\n",
      " 0.45       0.66666667 0.76470588 0.73333333 0.94117647 0.77777778\n",
      " 0.73684211 0.94736842 0.75       0.78947368 0.65217391 0.9\n",
      " 0.73684211 0.70588235 0.8        1.         0.53333333 0.91304348\n",
      " 0.73076923 0.85       0.70833333 0.8        0.73684211 0.6875\n",
      " 0.95       0.59090909 0.6        0.55       0.91304348 0.88888889\n",
      " 0.69230769 0.35714286 0.66666667 1.         0.39130435 0.4375\n",
      " 0.5        0.54545455 0.57142857 0.63157895 0.22727273 0.56\n",
      " 0.47058824 0.3        0.38095238 0.52       0.34782609 0.72\n",
      " 0.47368421]\n",
      "fscore: [0.83333333 0.64864865 0.7037037  0.54545455 0.76923077 0.57777778\n",
      " 0.58536585 0.43478261 0.78571429 0.65306122 0.48979592 0.64150943\n",
      " 0.8        0.52941176 0.48648649 0.62857143 0.32432432 0.64864865\n",
      " 0.43902439 0.86486486 0.32258065 0.15789474 0.63636364 0.48648649\n",
      " 0.5        0.72222222 0.48888889 0.69565217 0.75       0.54545455\n",
      " 0.73333333 0.54545455 0.41025641 0.48       0.68085106 0.85714286\n",
      " 0.48       0.71111111 0.85714286 0.79069767 0.89473684 0.88888889\n",
      " 0.51428571 0.44       0.22222222 0.2962963  0.15384615 0.375\n",
      " 0.61904762 0.55555556 0.58333333 0.58333333 0.33333333 0.76923077\n",
      " 0.70588235 0.77777778 0.62068966 0.64       0.77272727 0.3902439\n",
      " 0.48648649 0.7        0.72222222 0.73333333 0.88888889 0.875\n",
      " 0.66666667 0.8372093  0.76923077 0.68181818 0.625      0.81818182\n",
      " 0.7        0.75       0.8        0.97674419 0.5        0.93333333\n",
      " 0.71698113 0.85       0.77272727 0.83333333 0.75675676 0.6875\n",
      " 0.9047619  0.57777778 0.58064516 0.66666667 0.95454545 0.82051282\n",
      " 0.70588235 0.4        0.6557377  0.93333333 0.40909091 0.56\n",
      " 0.55813953 0.46153846 0.63157895 0.57142857 0.26315789 0.58333333\n",
      " 0.44444444 0.32432432 0.37209302 0.54166667 0.3902439  0.67924528\n",
      " 0.47368421]\n",
      "support: [19 15 28 21 17 22 23 26 29 25 26 33 15 16 19 18 20 19 16 20 16 19 33 19\n",
      " 21 16 22 24 17 22 17 21 21 10 22 16 13 18 23 21 19 20 19 25 21 17 12 19\n",
      " 19 18 22 11 17 19 17 18 14 25 23 19 20 21 17 15 17 18 19 19 20 19 23 20\n",
      " 19 17 15 21 15 23 26 20 24 25 19 16 20 22 15 20 23 18 26 14 30 14 23 16\n",
      " 24 22 21 19 22 25 17 20 21 25 23 25 19]\n",
      "Accuracy: 0.6286630036630036\n"
     ]
    }
   ],
   "source": [
    "tokenized_test = pipeline(val_df)\n",
    "\n",
    "tokenized_test = tokenized_test.remove_columns('label')\n",
    "\n",
    "preds = trainer.predict(tokenized_val)\n",
    "\n",
    "preds_flat = [np.argmax(x) for x in preds[0]]\n",
    "\n",
    "len(preds_flat)\n",
    "\n",
    "precision, recall, fscore, support = score(val_df['label'], preds_flat)\n",
    "accuracy = accuracy_score(val_df['label'], preds_flat, normalize=True)\n",
    "\n",
    "print('precision: {}'.format(precision))\n",
    "print('recall: {}'.format(recall))\n",
    "print('fscore: {}'.format(fscore))\n",
    "print('support: {}'.format(support))\n",
    "\n",
    "print('Accuracy: {}'.format(accuracy))"
   ]
  },
  {
   "cell_type": "markdown",
   "id": "1b9cbf06-e47a-4da8-ac2c-a00da39f6b0b",
   "metadata": {},
   "source": [
    "<br><br><br>"
   ]
  },
  {
   "cell_type": "markdown",
   "id": "a8fe9a54-5cf4-404d-9753-58ecf205e879",
   "metadata": {},
   "source": [
    "#### In both transformer models, we notice an increase in accuracy compared to our initial implementation, showing that there is potential for more improvement with hyperparameter fine-tuning"
   ]
  }
 ],
 "metadata": {
  "kernelspec": {
   "display_name": "Python 3 (ipykernel)",
   "language": "python",
   "name": "python3"
  },
  "language_info": {
   "codemirror_mode": {
    "name": "ipython",
    "version": 3
   },
   "file_extension": ".py",
   "mimetype": "text/x-python",
   "name": "python",
   "nbconvert_exporter": "python",
   "pygments_lexer": "ipython3",
   "version": "3.9.18"
  },
  "latex_envs": {
   "LaTeX_envs_menu_present": true,
   "autoclose": false,
   "autocomplete": true,
   "bibliofile": "biblio.bib",
   "cite_by": "apalike",
   "current_citInitial": 1,
   "eqLabelWithNumbers": true,
   "eqNumInitial": 1,
   "hotkeys": {
    "equation": "Ctrl-E",
    "itemize": "Ctrl-I"
   },
   "labels_anchors": false,
   "latex_user_defs": false,
   "report_style_numbering": false,
   "user_envs_cfg": false
  },
  "varInspector": {
   "cols": {
    "lenName": 16,
    "lenType": 16,
    "lenVar": 40
   },
   "kernels_config": {
    "python": {
     "delete_cmd_postfix": "",
     "delete_cmd_prefix": "del ",
     "library": "var_list.py",
     "varRefreshCmd": "print(var_dic_list())"
    },
    "r": {
     "delete_cmd_postfix": ") ",
     "delete_cmd_prefix": "rm(",
     "library": "var_list.r",
     "varRefreshCmd": "cat(var_dic_list()) "
    }
   },
   "types_to_exclude": [
    "module",
    "function",
    "builtin_function_or_method",
    "instance",
    "_Feature"
   ],
   "window_display": false
  }
 },
 "nbformat": 4,
 "nbformat_minor": 5
}
